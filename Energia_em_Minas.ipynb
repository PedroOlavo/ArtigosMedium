{
  "nbformat": 4,
  "nbformat_minor": 0,
  "metadata": {
    "colab": {
      "name": "Energia em Minas.ipynb",
      "provenance": [],
      "collapsed_sections": [],
      "mount_file_id": "13lKqQwLxt3qKiupW2GXgMnmmUrQPWQXa",
      "authorship_tag": "ABX9TyMgtP+vkw1B9T37cM2jX5tB",
      "include_colab_link": true
    },
    "kernelspec": {
      "name": "python3",
      "display_name": "Python 3"
    }
  },
  "cells": [
    {
      "cell_type": "markdown",
      "metadata": {
        "id": "view-in-github",
        "colab_type": "text"
      },
      "source": [
        "<a href=\"https://colab.research.google.com/github/PedroOlavo/ArtigosMedium/blob/main/Energia_em_Minas.ipynb\" target=\"_parent\"><img src=\"https://colab.research.google.com/assets/colab-badge.svg\" alt=\"Open In Colab\"/></a>"
      ]
    },
    {
      "cell_type": "markdown",
      "metadata": {
        "id": "s86UFGbH58L8"
      },
      "source": [
        "Importação das bibliotecas"
      ]
    },
    {
      "cell_type": "code",
      "metadata": {
        "id": "BN7vSgJOwiqy"
      },
      "source": [
        "import pandas as pd\r\n",
        "import numpy as np"
      ],
      "execution_count": 1,
      "outputs": []
    },
    {
      "cell_type": "markdown",
      "metadata": {
        "id": "VcwOFEZc6AnN"
      },
      "source": [
        "Leitura dos dados"
      ]
    },
    {
      "cell_type": "code",
      "metadata": {
        "colab": {
          "base_uri": "https://localhost:8080/",
          "height": 501
        },
        "id": "nMrtQrFYwn-5",
        "outputId": "f0b646c5-9535-49d6-8e06-d521461861c7"
      },
      "source": [
        "dados = pd.read_excel('/content/drive/MyDrive/BD SIGA 01012021.xlsx', header=1)\r\n",
        "dados.head()"
      ],
      "execution_count": 2,
      "outputs": [
        {
          "output_type": "execute_result",
          "data": {
            "text/html": [
              "<div>\n",
              "<style scoped>\n",
              "    .dataframe tbody tr th:only-of-type {\n",
              "        vertical-align: middle;\n",
              "    }\n",
              "\n",
              "    .dataframe tbody tr th {\n",
              "        vertical-align: top;\n",
              "    }\n",
              "\n",
              "    .dataframe thead th {\n",
              "        text-align: right;\n",
              "    }\n",
              "</style>\n",
              "<table border=\"1\" class=\"dataframe\">\n",
              "  <thead>\n",
              "    <tr style=\"text-align: right;\">\n",
              "      <th></th>\n",
              "      <th>Empreendimento</th>\n",
              "      <th>CEG</th>\n",
              "      <th>UF</th>\n",
              "      <th>Fonte</th>\n",
              "      <th>Fase</th>\n",
              "      <th>Origem</th>\n",
              "      <th>Tipo</th>\n",
              "      <th>Tipo de Atuação</th>\n",
              "      <th>Combustível Final</th>\n",
              "      <th>Entrada em Operação</th>\n",
              "      <th>Potência Outorgada (kW)</th>\n",
              "      <th>Potência Fiscalizada (kW)</th>\n",
              "      <th>Garantia Fisica (kW)</th>\n",
              "      <th>Geração Qualificada</th>\n",
              "      <th>Latitude (GMS)</th>\n",
              "      <th>Longitude (GMS)</th>\n",
              "      <th>Início Vigência</th>\n",
              "      <th>Fim Vigência</th>\n",
              "      <th>Proprietário / Regime de Exploração</th>\n",
              "      <th>Cod e Desc Sub-Bacia</th>\n",
              "      <th>Município (s)</th>\n",
              "    </tr>\n",
              "  </thead>\n",
              "  <tbody>\n",
              "    <tr>\n",
              "      <th>0</th>\n",
              "      <td>14 de Julho</td>\n",
              "      <td>UHE.PH.RS.000012-4</td>\n",
              "      <td>RS</td>\n",
              "      <td>UHE</td>\n",
              "      <td>Operação</td>\n",
              "      <td>Hídrica</td>\n",
              "      <td>Potencial hidráulico</td>\n",
              "      <td>Concessão</td>\n",
              "      <td>Potencial hidráulico</td>\n",
              "      <td>25/12/2008</td>\n",
              "      <td>100000.0</td>\n",
              "      <td>100710.0</td>\n",
              "      <td>47500</td>\n",
              "      <td>Não</td>\n",
              "      <td>29°3'53,136\"S</td>\n",
              "      <td>51°40'29,824\"W</td>\n",
              "      <td>2001-03-15</td>\n",
              "      <td>2036-03-15</td>\n",
              "      <td>100% para COMPANHIA ENERGÉTICA RIO DAS ANTAS (...</td>\n",
              "      <td>86 - Taquari</td>\n",
              "      <td>Bento Gonçalves - RS, Cotiporã - RS</td>\n",
              "    </tr>\n",
              "    <tr>\n",
              "      <th>1</th>\n",
              "      <td>29 de Outubro</td>\n",
              "      <td>UTE.PE.SC.029920-0</td>\n",
              "      <td>SC</td>\n",
              "      <td>UTE</td>\n",
              "      <td>Operação</td>\n",
              "      <td>Fóssil</td>\n",
              "      <td>Petróleo</td>\n",
              "      <td>Registro</td>\n",
              "      <td>Óleo Diesel</td>\n",
              "      <td>07/10/2008</td>\n",
              "      <td>62.0</td>\n",
              "      <td>62.0</td>\n",
              "      <td>0</td>\n",
              "      <td>Não</td>\n",
              "      <td>26° 29' 9,370\" S</td>\n",
              "      <td>49° 5' 10,100\" W</td>\n",
              "      <td>NaT</td>\n",
              "      <td>NaT</td>\n",
              "      <td>100% para Condomínio Residencial 29 de Outubro...</td>\n",
              "      <td>NaN</td>\n",
              "      <td>Jaraguá do Sul - SC</td>\n",
              "    </tr>\n",
              "    <tr>\n",
              "      <th>2</th>\n",
              "      <td>300KVA SCANIA</td>\n",
              "      <td>UTE.PE.MG.032686-0</td>\n",
              "      <td>MG</td>\n",
              "      <td>UTE</td>\n",
              "      <td>Operação</td>\n",
              "      <td>Fóssil</td>\n",
              "      <td>Petróleo</td>\n",
              "      <td>Registro</td>\n",
              "      <td>Óleo Diesel</td>\n",
              "      <td>01/06/2013</td>\n",
              "      <td>240.0</td>\n",
              "      <td>240.0</td>\n",
              "      <td>0</td>\n",
              "      <td>Não</td>\n",
              "      <td>21°46'53,08\"S</td>\n",
              "      <td>46°36'22,97\"W</td>\n",
              "      <td>NaT</td>\n",
              "      <td>NaT</td>\n",
              "      <td>100% para Mineração Curimbaba Ltda. (REG)</td>\n",
              "      <td>NaN</td>\n",
              "      <td>Poços de Caldas - MG</td>\n",
              "    </tr>\n",
              "    <tr>\n",
              "      <th>3</th>\n",
              "      <td>3M Itapetininga</td>\n",
              "      <td>UTE.PE.SP.028642-7</td>\n",
              "      <td>SP</td>\n",
              "      <td>UTE</td>\n",
              "      <td>Operação</td>\n",
              "      <td>Fóssil</td>\n",
              "      <td>Petróleo</td>\n",
              "      <td>Registro</td>\n",
              "      <td>Óleo Diesel</td>\n",
              "      <td>12/06/2002</td>\n",
              "      <td>3840.0</td>\n",
              "      <td>3840.0</td>\n",
              "      <td>0</td>\n",
              "      <td>Não</td>\n",
              "      <td>23°36'3,19\"S</td>\n",
              "      <td>48°5'41,69\"W</td>\n",
              "      <td>NaT</td>\n",
              "      <td>NaT</td>\n",
              "      <td>100% para 3M do Brasil Ltda (REG)</td>\n",
              "      <td>NaN</td>\n",
              "      <td>Itapetininga - SP</td>\n",
              "    </tr>\n",
              "    <tr>\n",
              "      <th>4</th>\n",
              "      <td>3M Sumaré</td>\n",
              "      <td>UTE.PE.SP.028919-1</td>\n",
              "      <td>SP</td>\n",
              "      <td>UTE</td>\n",
              "      <td>Operação</td>\n",
              "      <td>Fóssil</td>\n",
              "      <td>Petróleo</td>\n",
              "      <td>Autorização</td>\n",
              "      <td>Óleo Diesel</td>\n",
              "      <td>01/10/2001</td>\n",
              "      <td>6400.0</td>\n",
              "      <td>6400.0</td>\n",
              "      <td>0</td>\n",
              "      <td>Não</td>\n",
              "      <td>22°49'15,73\"S</td>\n",
              "      <td>47°11'24,3\"W</td>\n",
              "      <td>2003-06-20</td>\n",
              "      <td>2033-06-20</td>\n",
              "      <td>100% para 3M do Brasil Ltda (APE)</td>\n",
              "      <td>NaN</td>\n",
              "      <td>Sumaré - SP</td>\n",
              "    </tr>\n",
              "  </tbody>\n",
              "</table>\n",
              "</div>"
            ],
            "text/plain": [
              "    Empreendimento  ...                        Município (s)\n",
              "0      14 de Julho  ...  Bento Gonçalves - RS, Cotiporã - RS\n",
              "1    29 de Outubro  ...                  Jaraguá do Sul - SC\n",
              "2    300KVA SCANIA  ...                 Poços de Caldas - MG\n",
              "3  3M Itapetininga  ...                    Itapetininga - SP\n",
              "4        3M Sumaré  ...                          Sumaré - SP\n",
              "\n",
              "[5 rows x 21 columns]"
            ]
          },
          "metadata": {
            "tags": []
          },
          "execution_count": 2
        }
      ]
    },
    {
      "cell_type": "markdown",
      "metadata": {
        "id": "FEX_vglS6FCu"
      },
      "source": [
        "Verificando o nome das colunas da planilha"
      ]
    },
    {
      "cell_type": "code",
      "metadata": {
        "colab": {
          "base_uri": "https://localhost:8080/"
        },
        "id": "pp8HmHuL3J-6",
        "outputId": "dfa72891-910c-481b-9df1-62ebdda114dc"
      },
      "source": [
        "dados.columns"
      ],
      "execution_count": 3,
      "outputs": [
        {
          "output_type": "execute_result",
          "data": {
            "text/plain": [
              "Index(['Empreendimento', 'CEG', 'UF', 'Fonte', 'Fase', 'Origem', 'Tipo',\n",
              "       'Tipo de Atuação', 'Combustível Final', 'Entrada em Operação',\n",
              "       'Potência Outorgada (kW)', 'Potência Fiscalizada (kW)',\n",
              "       'Garantia Fisica (kW)', 'Geração Qualificada', 'Latitude (GMS)',\n",
              "       'Longitude (GMS)', 'Início Vigência', 'Fim Vigência',\n",
              "       'Proprietário / Regime de Exploração', 'Cod e Desc Sub-Bacia',\n",
              "       'Município (s)'],\n",
              "      dtype='object')"
            ]
          },
          "metadata": {
            "tags": []
          },
          "execution_count": 3
        }
      ]
    },
    {
      "cell_type": "markdown",
      "metadata": {
        "id": "6fQSr4SM6J4A"
      },
      "source": [
        "Analisando como os estdos estão listados"
      ]
    },
    {
      "cell_type": "code",
      "metadata": {
        "colab": {
          "base_uri": "https://localhost:8080/"
        },
        "id": "ZkQd3Ur_ywCX",
        "outputId": "8138e500-fe54-4cc7-ed17-2af1bff72d47"
      },
      "source": [
        "dados.UF.unique()"
      ],
      "execution_count": 4,
      "outputs": [
        {
          "output_type": "execute_result",
          "data": {
            "text/plain": [
              "array(['RS', 'SC', 'MG', 'SP', 'AC', 'RO', 'GO', 'PA', 'BA', 'RN', 'PR',\n",
              "       'MT', 'RJ', 'AL', 'TO', 'AM', 'PI', 'ES', 'RR', 'DF', 'MS', 'PE',\n",
              "       'CE', 'PB', 'MA', 'AP', 'SE'], dtype=object)"
            ]
          },
          "metadata": {
            "tags": []
          },
          "execution_count": 4
        }
      ]
    },
    {
      "cell_type": "markdown",
      "metadata": {
        "id": "XM8_a9Cc6NKZ"
      },
      "source": [
        "Selecionando apenas as observações relativas à Minas Gerais"
      ]
    },
    {
      "cell_type": "code",
      "metadata": {
        "colab": {
          "base_uri": "https://localhost:8080/",
          "height": 518
        },
        "id": "_MPHj2-00UUS",
        "outputId": "8e1cfaa8-16f1-49c4-8919-a4176bfd5b26"
      },
      "source": [
        "minas = dados.loc[dados['UF']=='MG']\r\n",
        "minas.head()"
      ],
      "execution_count": 5,
      "outputs": [
        {
          "output_type": "execute_result",
          "data": {
            "text/html": [
              "<div>\n",
              "<style scoped>\n",
              "    .dataframe tbody tr th:only-of-type {\n",
              "        vertical-align: middle;\n",
              "    }\n",
              "\n",
              "    .dataframe tbody tr th {\n",
              "        vertical-align: top;\n",
              "    }\n",
              "\n",
              "    .dataframe thead th {\n",
              "        text-align: right;\n",
              "    }\n",
              "</style>\n",
              "<table border=\"1\" class=\"dataframe\">\n",
              "  <thead>\n",
              "    <tr style=\"text-align: right;\">\n",
              "      <th></th>\n",
              "      <th>Empreendimento</th>\n",
              "      <th>CEG</th>\n",
              "      <th>UF</th>\n",
              "      <th>Fonte</th>\n",
              "      <th>Fase</th>\n",
              "      <th>Origem</th>\n",
              "      <th>Tipo</th>\n",
              "      <th>Tipo de Atuação</th>\n",
              "      <th>Combustível Final</th>\n",
              "      <th>Entrada em Operação</th>\n",
              "      <th>Potência Outorgada (kW)</th>\n",
              "      <th>Potência Fiscalizada (kW)</th>\n",
              "      <th>Garantia Fisica (kW)</th>\n",
              "      <th>Geração Qualificada</th>\n",
              "      <th>Latitude (GMS)</th>\n",
              "      <th>Longitude (GMS)</th>\n",
              "      <th>Início Vigência</th>\n",
              "      <th>Fim Vigência</th>\n",
              "      <th>Proprietário / Regime de Exploração</th>\n",
              "      <th>Cod e Desc Sub-Bacia</th>\n",
              "      <th>Município (s)</th>\n",
              "    </tr>\n",
              "  </thead>\n",
              "  <tbody>\n",
              "    <tr>\n",
              "      <th>2</th>\n",
              "      <td>300KVA SCANIA</td>\n",
              "      <td>UTE.PE.MG.032686-0</td>\n",
              "      <td>MG</td>\n",
              "      <td>UTE</td>\n",
              "      <td>Operação</td>\n",
              "      <td>Fóssil</td>\n",
              "      <td>Petróleo</td>\n",
              "      <td>Registro</td>\n",
              "      <td>Óleo Diesel</td>\n",
              "      <td>01/06/2013</td>\n",
              "      <td>240.0</td>\n",
              "      <td>240.0</td>\n",
              "      <td>0</td>\n",
              "      <td>Não</td>\n",
              "      <td>21°46'53,08\"S</td>\n",
              "      <td>46°36'22,97\"W</td>\n",
              "      <td>NaT</td>\n",
              "      <td>NaT</td>\n",
              "      <td>100% para Mineração Curimbaba Ltda. (REG)</td>\n",
              "      <td>NaN</td>\n",
              "      <td>Poços de Caldas - MG</td>\n",
              "    </tr>\n",
              "    <tr>\n",
              "      <th>15</th>\n",
              "      <td>ABC</td>\n",
              "      <td>UTE.PE.MG.030905-2</td>\n",
              "      <td>MG</td>\n",
              "      <td>UTE</td>\n",
              "      <td>Operação</td>\n",
              "      <td>Fóssil</td>\n",
              "      <td>Petróleo</td>\n",
              "      <td>Registro</td>\n",
              "      <td>Óleo Diesel</td>\n",
              "      <td>01/12/2011</td>\n",
              "      <td>184.0</td>\n",
              "      <td>184.0</td>\n",
              "      <td>0</td>\n",
              "      <td>Não</td>\n",
              "      <td>20° 44' 59,316\" S</td>\n",
              "      <td>44° 44' 9,528\" W</td>\n",
              "      <td>NaT</td>\n",
              "      <td>NaT</td>\n",
              "      <td>100% para Adição Distribuição Express Ltda. (REG)</td>\n",
              "      <td>NaN</td>\n",
              "      <td>Oliveira - MG</td>\n",
              "    </tr>\n",
              "    <tr>\n",
              "      <th>16</th>\n",
              "      <td>ABC</td>\n",
              "      <td>UTE.PE.MG.031170-7</td>\n",
              "      <td>MG</td>\n",
              "      <td>UTE</td>\n",
              "      <td>Operação</td>\n",
              "      <td>Fóssil</td>\n",
              "      <td>Petróleo</td>\n",
              "      <td>Registro</td>\n",
              "      <td>Óleo Diesel</td>\n",
              "      <td>01/08/2011</td>\n",
              "      <td>400.0</td>\n",
              "      <td>400.0</td>\n",
              "      <td>0</td>\n",
              "      <td>Não</td>\n",
              "      <td>20° 7' 25,392\" S</td>\n",
              "      <td>44° 55' 50,484\" W</td>\n",
              "      <td>NaT</td>\n",
              "      <td>NaT</td>\n",
              "      <td>100% para Adição Distribuição Express Ltda. (REG)</td>\n",
              "      <td>NaN</td>\n",
              "      <td>Divinópolis - MG</td>\n",
              "    </tr>\n",
              "    <tr>\n",
              "      <th>30</th>\n",
              "      <td>AC III</td>\n",
              "      <td>UFV.RS.MG.037403-2</td>\n",
              "      <td>MG</td>\n",
              "      <td>UFV</td>\n",
              "      <td>Construção não iniciada</td>\n",
              "      <td>Solar</td>\n",
              "      <td>Radiação solar</td>\n",
              "      <td>Autorização</td>\n",
              "      <td>Radiação solar</td>\n",
              "      <td>-</td>\n",
              "      <td>34000.0</td>\n",
              "      <td>0.0</td>\n",
              "      <td>0</td>\n",
              "      <td>Não</td>\n",
              "      <td>15° 21' 32,690\" S</td>\n",
              "      <td>43° 48' 25,890\" W</td>\n",
              "      <td>2019-08-09</td>\n",
              "      <td>2054-08-09</td>\n",
              "      <td>100% para VALE S.A. (PIE)</td>\n",
              "      <td>NaN</td>\n",
              "      <td>Jaíba - MG</td>\n",
              "    </tr>\n",
              "    <tr>\n",
              "      <th>31</th>\n",
              "      <td>AC IV</td>\n",
              "      <td>UFV.RS.MG.037404-0</td>\n",
              "      <td>MG</td>\n",
              "      <td>UFV</td>\n",
              "      <td>Construção não iniciada</td>\n",
              "      <td>Solar</td>\n",
              "      <td>Radiação solar</td>\n",
              "      <td>Autorização</td>\n",
              "      <td>Radiação solar</td>\n",
              "      <td>-</td>\n",
              "      <td>40000.0</td>\n",
              "      <td>0.0</td>\n",
              "      <td>0</td>\n",
              "      <td>Não</td>\n",
              "      <td>15° 21' 54,430\" S</td>\n",
              "      <td>43° 47' 40,380\" W</td>\n",
              "      <td>2019-08-09</td>\n",
              "      <td>2054-08-09</td>\n",
              "      <td>100% para VALE S.A. (PIE)</td>\n",
              "      <td>NaN</td>\n",
              "      <td>Jaíba - MG</td>\n",
              "    </tr>\n",
              "  </tbody>\n",
              "</table>\n",
              "</div>"
            ],
            "text/plain": [
              "   Empreendimento  ...         Município (s)\n",
              "2   300KVA SCANIA  ...  Poços de Caldas - MG\n",
              "15            ABC  ...         Oliveira - MG\n",
              "16            ABC  ...      Divinópolis - MG\n",
              "30         AC III  ...            Jaíba - MG\n",
              "31          AC IV  ...            Jaíba - MG\n",
              "\n",
              "[5 rows x 21 columns]"
            ]
          },
          "metadata": {
            "tags": []
          },
          "execution_count": 5
        }
      ]
    },
    {
      "cell_type": "markdown",
      "metadata": {
        "id": "jg4S66Ol6cw0"
      },
      "source": [
        "Importação das bibliotecas para gerar os gráficos"
      ]
    },
    {
      "cell_type": "code",
      "metadata": {
        "id": "CzlKBqh9xT5a"
      },
      "source": [
        "import matplotlib.pyplot as plt\r\n",
        "import plotly.graph_objects as go\r\n",
        "import plotly.express as px"
      ],
      "execution_count": 6,
      "outputs": []
    },
    {
      "cell_type": "markdown",
      "metadata": {
        "id": "gz5OP2xU6ip_"
      },
      "source": [
        "Criação de uma nova tabela para contar quantas usinas estão em operação, construção ou não iniciadas"
      ]
    },
    {
      "cell_type": "code",
      "metadata": {
        "colab": {
          "base_uri": "https://localhost:8080/",
          "height": 136
        },
        "id": "D5frG2J-6kXR",
        "outputId": "2a28e68d-22bc-456d-f9d2-9bc0e64afe36"
      },
      "source": [
        "fase = minas.Fase.unique()\r\n",
        "n_fase = minas.Fase.value_counts()\r\n",
        "\r\n",
        "n_u_fase = {'Fase': fase, 'Número de usinas': n_fase}\r\n",
        "n_u_fase = pd.DataFrame(n_u_fase)\r\n",
        "n_u_fase"
      ],
      "execution_count": 7,
      "outputs": [
        {
          "output_type": "execute_result",
          "data": {
            "text/html": [
              "<div>\n",
              "<style scoped>\n",
              "    .dataframe tbody tr th:only-of-type {\n",
              "        vertical-align: middle;\n",
              "    }\n",
              "\n",
              "    .dataframe tbody tr th {\n",
              "        vertical-align: top;\n",
              "    }\n",
              "\n",
              "    .dataframe thead th {\n",
              "        text-align: right;\n",
              "    }\n",
              "</style>\n",
              "<table border=\"1\" class=\"dataframe\">\n",
              "  <thead>\n",
              "    <tr style=\"text-align: right;\">\n",
              "      <th></th>\n",
              "      <th>Fase</th>\n",
              "      <th>Número de usinas</th>\n",
              "    </tr>\n",
              "  </thead>\n",
              "  <tbody>\n",
              "    <tr>\n",
              "      <th>Operação</th>\n",
              "      <td>Operação</td>\n",
              "      <td>753</td>\n",
              "    </tr>\n",
              "    <tr>\n",
              "      <th>Construção não iniciada</th>\n",
              "      <td>Construção não iniciada</td>\n",
              "      <td>118</td>\n",
              "    </tr>\n",
              "    <tr>\n",
              "      <th>Construção</th>\n",
              "      <td>Construção</td>\n",
              "      <td>6</td>\n",
              "    </tr>\n",
              "  </tbody>\n",
              "</table>\n",
              "</div>"
            ],
            "text/plain": [
              "                                            Fase  Número de usinas\n",
              "Operação                                Operação               753\n",
              "Construção não iniciada  Construção não iniciada               118\n",
              "Construção                            Construção                 6"
            ]
          },
          "metadata": {
            "tags": []
          },
          "execution_count": 7
        }
      ]
    },
    {
      "cell_type": "markdown",
      "metadata": {
        "id": "20UtF7oc6rtZ"
      },
      "source": [
        "Gerando o gráfico para visualizar a quantidade de usinas em cada fase"
      ]
    },
    {
      "cell_type": "code",
      "metadata": {
        "colab": {
          "base_uri": "https://localhost:8080/",
          "height": 542
        },
        "id": "pJxSUBHb3zXL",
        "outputId": "38af7171-8a73-4b04-d035-0b4b15c750e9"
      },
      "source": [
        "bar_plot1 = px.bar(n_u_fase, x='Fase', y='Número de usinas', color='Fase', text='Número de usinas')\r\n",
        "\r\n",
        "bar_plot1.update_layout(title_text='Quantidade de usinas em operação, em construção ou em espera em Minas',\r\n",
        "                        yaxis_title = 'Número de unidades geradoras')\r\n",
        "                        \r\n",
        "bar_plot1.update_traces(texttemplate='%{text:}', textposition='outside')\r\n",
        "bar_plot1.show()\r\n"
      ],
      "execution_count": 8,
      "outputs": [
        {
          "output_type": "display_data",
          "data": {
            "text/html": [
              "<html>\n",
              "<head><meta charset=\"utf-8\" /></head>\n",
              "<body>\n",
              "    <div>\n",
              "            <script src=\"https://cdnjs.cloudflare.com/ajax/libs/mathjax/2.7.5/MathJax.js?config=TeX-AMS-MML_SVG\"></script><script type=\"text/javascript\">if (window.MathJax) {MathJax.Hub.Config({SVG: {font: \"STIX-Web\"}});}</script>\n",
              "                <script type=\"text/javascript\">window.PlotlyConfig = {MathJaxConfig: 'local'};</script>\n",
              "        <script src=\"https://cdn.plot.ly/plotly-latest.min.js\"></script>    \n",
              "            <div id=\"c1bd0241-9e01-420a-ae15-34c9c2f91036\" class=\"plotly-graph-div\" style=\"height:525px; width:100%;\"></div>\n",
              "            <script type=\"text/javascript\">\n",
              "                \n",
              "                    window.PLOTLYENV=window.PLOTLYENV || {};\n",
              "                    \n",
              "                if (document.getElementById(\"c1bd0241-9e01-420a-ae15-34c9c2f91036\")) {\n",
              "                    Plotly.newPlot(\n",
              "                        'c1bd0241-9e01-420a-ae15-34c9c2f91036',\n",
              "                        [{\"alignmentgroup\": \"True\", \"hoverlabel\": {\"namelength\": 0}, \"hovertemplate\": \"Fase=%{x}<br>N\\u00famero de usinas=%{text}\", \"legendgroup\": \"Fase=Opera\\u00e7\\u00e3o\", \"marker\": {\"color\": \"#636efa\"}, \"name\": \"Fase=Opera\\u00e7\\u00e3o\", \"offsetgroup\": \"Fase=Opera\\u00e7\\u00e3o\", \"orientation\": \"v\", \"showlegend\": true, \"text\": [753.0], \"textposition\": \"outside\", \"texttemplate\": \"%{text:}\", \"type\": \"bar\", \"x\": [\"Opera\\u00e7\\u00e3o\"], \"xaxis\": \"x\", \"y\": [753], \"yaxis\": \"y\"}, {\"alignmentgroup\": \"True\", \"hoverlabel\": {\"namelength\": 0}, \"hovertemplate\": \"Fase=%{x}<br>N\\u00famero de usinas=%{text}\", \"legendgroup\": \"Fase=Constru\\u00e7\\u00e3o n\\u00e3o iniciada\", \"marker\": {\"color\": \"#EF553B\"}, \"name\": \"Fase=Constru\\u00e7\\u00e3o n\\u00e3o iniciada\", \"offsetgroup\": \"Fase=Constru\\u00e7\\u00e3o n\\u00e3o iniciada\", \"orientation\": \"v\", \"showlegend\": true, \"text\": [118.0], \"textposition\": \"outside\", \"texttemplate\": \"%{text:}\", \"type\": \"bar\", \"x\": [\"Constru\\u00e7\\u00e3o n\\u00e3o iniciada\"], \"xaxis\": \"x\", \"y\": [118], \"yaxis\": \"y\"}, {\"alignmentgroup\": \"True\", \"hoverlabel\": {\"namelength\": 0}, \"hovertemplate\": \"Fase=%{x}<br>N\\u00famero de usinas=%{text}\", \"legendgroup\": \"Fase=Constru\\u00e7\\u00e3o\", \"marker\": {\"color\": \"#00cc96\"}, \"name\": \"Fase=Constru\\u00e7\\u00e3o\", \"offsetgroup\": \"Fase=Constru\\u00e7\\u00e3o\", \"orientation\": \"v\", \"showlegend\": true, \"text\": [6.0], \"textposition\": \"outside\", \"texttemplate\": \"%{text:}\", \"type\": \"bar\", \"x\": [\"Constru\\u00e7\\u00e3o\"], \"xaxis\": \"x\", \"y\": [6], \"yaxis\": \"y\"}],\n",
              "                        {\"barmode\": \"relative\", \"legend\": {\"tracegroupgap\": 0}, \"margin\": {\"t\": 60}, \"template\": {\"data\": {\"bar\": [{\"error_x\": {\"color\": \"#2a3f5f\"}, \"error_y\": {\"color\": \"#2a3f5f\"}, \"marker\": {\"line\": {\"color\": \"#E5ECF6\", \"width\": 0.5}}, \"type\": \"bar\"}], \"barpolar\": [{\"marker\": {\"line\": {\"color\": \"#E5ECF6\", \"width\": 0.5}}, \"type\": \"barpolar\"}], \"carpet\": [{\"aaxis\": {\"endlinecolor\": \"#2a3f5f\", \"gridcolor\": \"white\", \"linecolor\": \"white\", \"minorgridcolor\": \"white\", \"startlinecolor\": \"#2a3f5f\"}, \"baxis\": {\"endlinecolor\": \"#2a3f5f\", \"gridcolor\": \"white\", \"linecolor\": \"white\", \"minorgridcolor\": \"white\", \"startlinecolor\": \"#2a3f5f\"}, \"type\": \"carpet\"}], \"choropleth\": [{\"colorbar\": {\"outlinewidth\": 0, \"ticks\": \"\"}, \"type\": \"choropleth\"}], \"contour\": [{\"colorbar\": {\"outlinewidth\": 0, \"ticks\": \"\"}, \"colorscale\": [[0.0, \"#0d0887\"], [0.1111111111111111, \"#46039f\"], [0.2222222222222222, \"#7201a8\"], [0.3333333333333333, \"#9c179e\"], [0.4444444444444444, \"#bd3786\"], [0.5555555555555556, \"#d8576b\"], [0.6666666666666666, \"#ed7953\"], [0.7777777777777778, \"#fb9f3a\"], [0.8888888888888888, \"#fdca26\"], [1.0, \"#f0f921\"]], \"type\": \"contour\"}], \"contourcarpet\": [{\"colorbar\": {\"outlinewidth\": 0, \"ticks\": \"\"}, \"type\": \"contourcarpet\"}], \"heatmap\": [{\"colorbar\": {\"outlinewidth\": 0, \"ticks\": \"\"}, \"colorscale\": [[0.0, \"#0d0887\"], [0.1111111111111111, \"#46039f\"], [0.2222222222222222, \"#7201a8\"], [0.3333333333333333, \"#9c179e\"], [0.4444444444444444, \"#bd3786\"], [0.5555555555555556, \"#d8576b\"], [0.6666666666666666, \"#ed7953\"], [0.7777777777777778, \"#fb9f3a\"], [0.8888888888888888, \"#fdca26\"], [1.0, \"#f0f921\"]], \"type\": \"heatmap\"}], \"heatmapgl\": [{\"colorbar\": {\"outlinewidth\": 0, \"ticks\": \"\"}, \"colorscale\": [[0.0, \"#0d0887\"], [0.1111111111111111, \"#46039f\"], [0.2222222222222222, \"#7201a8\"], [0.3333333333333333, \"#9c179e\"], [0.4444444444444444, \"#bd3786\"], [0.5555555555555556, \"#d8576b\"], [0.6666666666666666, \"#ed7953\"], [0.7777777777777778, \"#fb9f3a\"], [0.8888888888888888, \"#fdca26\"], [1.0, \"#f0f921\"]], \"type\": \"heatmapgl\"}], \"histogram\": [{\"marker\": {\"colorbar\": {\"outlinewidth\": 0, \"ticks\": \"\"}}, \"type\": \"histogram\"}], \"histogram2d\": [{\"colorbar\": {\"outlinewidth\": 0, \"ticks\": \"\"}, \"colorscale\": [[0.0, \"#0d0887\"], [0.1111111111111111, \"#46039f\"], [0.2222222222222222, \"#7201a8\"], [0.3333333333333333, \"#9c179e\"], [0.4444444444444444, \"#bd3786\"], [0.5555555555555556, \"#d8576b\"], [0.6666666666666666, \"#ed7953\"], [0.7777777777777778, \"#fb9f3a\"], [0.8888888888888888, \"#fdca26\"], [1.0, \"#f0f921\"]], \"type\": \"histogram2d\"}], \"histogram2dcontour\": [{\"colorbar\": {\"outlinewidth\": 0, \"ticks\": \"\"}, \"colorscale\": [[0.0, \"#0d0887\"], [0.1111111111111111, \"#46039f\"], [0.2222222222222222, \"#7201a8\"], [0.3333333333333333, \"#9c179e\"], [0.4444444444444444, \"#bd3786\"], [0.5555555555555556, \"#d8576b\"], [0.6666666666666666, \"#ed7953\"], [0.7777777777777778, \"#fb9f3a\"], [0.8888888888888888, \"#fdca26\"], [1.0, \"#f0f921\"]], \"type\": \"histogram2dcontour\"}], \"mesh3d\": [{\"colorbar\": {\"outlinewidth\": 0, \"ticks\": \"\"}, \"type\": \"mesh3d\"}], \"parcoords\": [{\"line\": {\"colorbar\": {\"outlinewidth\": 0, \"ticks\": \"\"}}, \"type\": \"parcoords\"}], \"pie\": [{\"automargin\": true, \"type\": \"pie\"}], \"scatter\": [{\"marker\": {\"colorbar\": {\"outlinewidth\": 0, \"ticks\": \"\"}}, \"type\": \"scatter\"}], \"scatter3d\": [{\"line\": {\"colorbar\": {\"outlinewidth\": 0, \"ticks\": \"\"}}, \"marker\": {\"colorbar\": {\"outlinewidth\": 0, \"ticks\": \"\"}}, \"type\": \"scatter3d\"}], \"scattercarpet\": [{\"marker\": {\"colorbar\": {\"outlinewidth\": 0, \"ticks\": \"\"}}, \"type\": \"scattercarpet\"}], \"scattergeo\": [{\"marker\": {\"colorbar\": {\"outlinewidth\": 0, \"ticks\": \"\"}}, \"type\": \"scattergeo\"}], \"scattergl\": [{\"marker\": {\"colorbar\": {\"outlinewidth\": 0, \"ticks\": \"\"}}, \"type\": \"scattergl\"}], \"scattermapbox\": [{\"marker\": {\"colorbar\": {\"outlinewidth\": 0, \"ticks\": \"\"}}, \"type\": \"scattermapbox\"}], \"scatterpolar\": [{\"marker\": {\"colorbar\": {\"outlinewidth\": 0, \"ticks\": \"\"}}, \"type\": \"scatterpolar\"}], \"scatterpolargl\": [{\"marker\": {\"colorbar\": {\"outlinewidth\": 0, \"ticks\": \"\"}}, \"type\": \"scatterpolargl\"}], \"scatterternary\": [{\"marker\": {\"colorbar\": {\"outlinewidth\": 0, \"ticks\": \"\"}}, \"type\": \"scatterternary\"}], \"surface\": [{\"colorbar\": {\"outlinewidth\": 0, \"ticks\": \"\"}, \"colorscale\": [[0.0, \"#0d0887\"], [0.1111111111111111, \"#46039f\"], [0.2222222222222222, \"#7201a8\"], [0.3333333333333333, \"#9c179e\"], [0.4444444444444444, \"#bd3786\"], [0.5555555555555556, \"#d8576b\"], [0.6666666666666666, \"#ed7953\"], [0.7777777777777778, \"#fb9f3a\"], [0.8888888888888888, \"#fdca26\"], [1.0, \"#f0f921\"]], \"type\": \"surface\"}], \"table\": [{\"cells\": {\"fill\": {\"color\": \"#EBF0F8\"}, \"line\": {\"color\": \"white\"}}, \"header\": {\"fill\": {\"color\": \"#C8D4E3\"}, \"line\": {\"color\": \"white\"}}, \"type\": \"table\"}]}, \"layout\": {\"annotationdefaults\": {\"arrowcolor\": \"#2a3f5f\", \"arrowhead\": 0, \"arrowwidth\": 1}, \"coloraxis\": {\"colorbar\": {\"outlinewidth\": 0, \"ticks\": \"\"}}, \"colorscale\": {\"diverging\": [[0, \"#8e0152\"], [0.1, \"#c51b7d\"], [0.2, \"#de77ae\"], [0.3, \"#f1b6da\"], [0.4, \"#fde0ef\"], [0.5, \"#f7f7f7\"], [0.6, \"#e6f5d0\"], [0.7, \"#b8e186\"], [0.8, \"#7fbc41\"], [0.9, \"#4d9221\"], [1, \"#276419\"]], \"sequential\": [[0.0, \"#0d0887\"], [0.1111111111111111, \"#46039f\"], [0.2222222222222222, \"#7201a8\"], [0.3333333333333333, \"#9c179e\"], [0.4444444444444444, \"#bd3786\"], [0.5555555555555556, \"#d8576b\"], [0.6666666666666666, \"#ed7953\"], [0.7777777777777778, \"#fb9f3a\"], [0.8888888888888888, \"#fdca26\"], [1.0, \"#f0f921\"]], \"sequentialminus\": [[0.0, \"#0d0887\"], [0.1111111111111111, \"#46039f\"], [0.2222222222222222, \"#7201a8\"], [0.3333333333333333, \"#9c179e\"], [0.4444444444444444, \"#bd3786\"], [0.5555555555555556, \"#d8576b\"], [0.6666666666666666, \"#ed7953\"], [0.7777777777777778, \"#fb9f3a\"], [0.8888888888888888, \"#fdca26\"], [1.0, \"#f0f921\"]]}, \"colorway\": [\"#636efa\", \"#EF553B\", \"#00cc96\", \"#ab63fa\", \"#FFA15A\", \"#19d3f3\", \"#FF6692\", \"#B6E880\", \"#FF97FF\", \"#FECB52\"], \"font\": {\"color\": \"#2a3f5f\"}, \"geo\": {\"bgcolor\": \"white\", \"lakecolor\": \"white\", \"landcolor\": \"#E5ECF6\", \"showlakes\": true, \"showland\": true, \"subunitcolor\": \"white\"}, \"hoverlabel\": {\"align\": \"left\"}, \"hovermode\": \"closest\", \"mapbox\": {\"style\": \"light\"}, \"paper_bgcolor\": \"white\", \"plot_bgcolor\": \"#E5ECF6\", \"polar\": {\"angularaxis\": {\"gridcolor\": \"white\", \"linecolor\": \"white\", \"ticks\": \"\"}, \"bgcolor\": \"#E5ECF6\", \"radialaxis\": {\"gridcolor\": \"white\", \"linecolor\": \"white\", \"ticks\": \"\"}}, \"scene\": {\"xaxis\": {\"backgroundcolor\": \"#E5ECF6\", \"gridcolor\": \"white\", \"gridwidth\": 2, \"linecolor\": \"white\", \"showbackground\": true, \"ticks\": \"\", \"zerolinecolor\": \"white\"}, \"yaxis\": {\"backgroundcolor\": \"#E5ECF6\", \"gridcolor\": \"white\", \"gridwidth\": 2, \"linecolor\": \"white\", \"showbackground\": true, \"ticks\": \"\", \"zerolinecolor\": \"white\"}, \"zaxis\": {\"backgroundcolor\": \"#E5ECF6\", \"gridcolor\": \"white\", \"gridwidth\": 2, \"linecolor\": \"white\", \"showbackground\": true, \"ticks\": \"\", \"zerolinecolor\": \"white\"}}, \"shapedefaults\": {\"line\": {\"color\": \"#2a3f5f\"}}, \"ternary\": {\"aaxis\": {\"gridcolor\": \"white\", \"linecolor\": \"white\", \"ticks\": \"\"}, \"baxis\": {\"gridcolor\": \"white\", \"linecolor\": \"white\", \"ticks\": \"\"}, \"bgcolor\": \"#E5ECF6\", \"caxis\": {\"gridcolor\": \"white\", \"linecolor\": \"white\", \"ticks\": \"\"}}, \"title\": {\"x\": 0.05}, \"xaxis\": {\"automargin\": true, \"gridcolor\": \"white\", \"linecolor\": \"white\", \"ticks\": \"\", \"title\": {\"standoff\": 15}, \"zerolinecolor\": \"white\", \"zerolinewidth\": 2}, \"yaxis\": {\"automargin\": true, \"gridcolor\": \"white\", \"linecolor\": \"white\", \"ticks\": \"\", \"title\": {\"standoff\": 15}, \"zerolinecolor\": \"white\", \"zerolinewidth\": 2}}}, \"title\": {\"text\": \"Quantidade de usinas em opera\\u00e7\\u00e3o, em constru\\u00e7\\u00e3o ou em espera em Minas\"}, \"xaxis\": {\"anchor\": \"y\", \"categoryarray\": [\"Opera\\u00e7\\u00e3o\", \"Constru\\u00e7\\u00e3o n\\u00e3o iniciada\", \"Constru\\u00e7\\u00e3o\"], \"categoryorder\": \"array\", \"domain\": [0.0, 1.0], \"title\": {\"text\": \"Fase\"}}, \"yaxis\": {\"anchor\": \"x\", \"domain\": [0.0, 1.0], \"title\": {\"text\": \"N\\u00famero de unidades geradoras\"}}},\n",
              "                        {\"responsive\": true}\n",
              "                    ).then(function(){\n",
              "                            \n",
              "var gd = document.getElementById('c1bd0241-9e01-420a-ae15-34c9c2f91036');\n",
              "var x = new MutationObserver(function (mutations, observer) {{\n",
              "        var display = window.getComputedStyle(gd).display;\n",
              "        if (!display || display === 'none') {{\n",
              "            console.log([gd, 'removed!']);\n",
              "            Plotly.purge(gd);\n",
              "            observer.disconnect();\n",
              "        }}\n",
              "}});\n",
              "\n",
              "// Listen for the removal of the full notebook cells\n",
              "var notebookContainer = gd.closest('#notebook-container');\n",
              "if (notebookContainer) {{\n",
              "    x.observe(notebookContainer, {childList: true});\n",
              "}}\n",
              "\n",
              "// Listen for the clearing of the current output cell\n",
              "var outputEl = gd.closest('.output');\n",
              "if (outputEl) {{\n",
              "    x.observe(outputEl, {childList: true});\n",
              "}}\n",
              "\n",
              "                        })\n",
              "                };\n",
              "                \n",
              "            </script>\n",
              "        </div>\n",
              "</body>\n",
              "</html>"
            ]
          },
          "metadata": {
            "tags": []
          }
        }
      ]
    },
    {
      "cell_type": "markdown",
      "metadata": {
        "id": "3GB9sO9G6w0y"
      },
      "source": [
        "Selecionando apenas as usinas que já estão em operação"
      ]
    },
    {
      "cell_type": "code",
      "metadata": {
        "id": "Ls0g3S5y81Vh",
        "colab": {
          "base_uri": "https://localhost:8080/"
        },
        "outputId": "92d9c3c2-06df-4b1e-f7bd-f0e64cc6ae0a"
      },
      "source": [
        "usinas_op = minas.loc[minas['Fase']=='Operação']\r\n",
        "usinas_op.rename(columns={'Potência Outorgada (kW)': 'Potência_kW'}, inplace=True)"
      ],
      "execution_count": 33,
      "outputs": [
        {
          "output_type": "stream",
          "text": [
            "/usr/local/lib/python3.6/dist-packages/pandas/core/frame.py:4308: SettingWithCopyWarning:\n",
            "\n",
            "\n",
            "A value is trying to be set on a copy of a slice from a DataFrame\n",
            "\n",
            "See the caveats in the documentation: https://pandas.pydata.org/pandas-docs/stable/user_guide/indexing.html#returning-a-view-versus-a-copy\n",
            "\n"
          ],
          "name": "stderr"
        }
      ]
    },
    {
      "cell_type": "markdown",
      "metadata": {
        "id": "HAi7-UoI7Hw-"
      },
      "source": [
        "Criando uma tabela para saber quantas unidades geradoras de cada tipo há no estado"
      ]
    },
    {
      "cell_type": "code",
      "metadata": {
        "colab": {
          "base_uri": "https://localhost:8080/",
          "height": 195
        },
        "id": "RRzKhkKG66J7",
        "outputId": "fa6781a8-b5d1-461a-a72f-0e260d9fdac5"
      },
      "source": [
        "origem = minas.Origem.unique()\r\n",
        "n_origem = minas.Origem.value_counts()\r\n",
        "\r\n",
        "origens = {'Origem': origem, 'Número de Usinas': n_origem}\r\n",
        "origens = pd.DataFrame(origens)\r\n",
        "origens"
      ],
      "execution_count": 34,
      "outputs": [
        {
          "output_type": "execute_result",
          "data": {
            "text/html": [
              "<div>\n",
              "<style scoped>\n",
              "    .dataframe tbody tr th:only-of-type {\n",
              "        vertical-align: middle;\n",
              "    }\n",
              "\n",
              "    .dataframe tbody tr th {\n",
              "        vertical-align: top;\n",
              "    }\n",
              "\n",
              "    .dataframe thead th {\n",
              "        text-align: right;\n",
              "    }\n",
              "</style>\n",
              "<table border=\"1\" class=\"dataframe\">\n",
              "  <thead>\n",
              "    <tr style=\"text-align: right;\">\n",
              "      <th></th>\n",
              "      <th>Origem</th>\n",
              "      <th>Número de Usinas</th>\n",
              "    </tr>\n",
              "  </thead>\n",
              "  <tbody>\n",
              "    <tr>\n",
              "      <th>Fóssil</th>\n",
              "      <td>Fóssil</td>\n",
              "      <td>365</td>\n",
              "    </tr>\n",
              "    <tr>\n",
              "      <th>Hídrica</th>\n",
              "      <td>Solar</td>\n",
              "      <td>299</td>\n",
              "    </tr>\n",
              "    <tr>\n",
              "      <th>Solar</th>\n",
              "      <td>Hídrica</td>\n",
              "      <td>132</td>\n",
              "    </tr>\n",
              "    <tr>\n",
              "      <th>Biomassa</th>\n",
              "      <td>Biomassa</td>\n",
              "      <td>80</td>\n",
              "    </tr>\n",
              "    <tr>\n",
              "      <th>Eólica</th>\n",
              "      <td>Eólica</td>\n",
              "      <td>1</td>\n",
              "    </tr>\n",
              "  </tbody>\n",
              "</table>\n",
              "</div>"
            ],
            "text/plain": [
              "            Origem  Número de Usinas\n",
              "Fóssil      Fóssil               365\n",
              "Hídrica      Solar               299\n",
              "Solar      Hídrica               132\n",
              "Biomassa  Biomassa                80\n",
              "Eólica      Eólica                 1"
            ]
          },
          "metadata": {
            "tags": []
          },
          "execution_count": 34
        }
      ]
    },
    {
      "cell_type": "markdown",
      "metadata": {
        "id": "pvtsqSAt704x"
      },
      "source": [
        "Criação de um gráfico para mostrar o número de usinas de cada tipo"
      ]
    },
    {
      "cell_type": "code",
      "metadata": {
        "colab": {
          "base_uri": "https://localhost:8080/",
          "height": 542
        },
        "id": "LGgbd4tjyMQq",
        "outputId": "7165f599-dcae-4aa5-819d-c945d7ee79a0"
      },
      "source": [
        "bar_plot2 = px.bar(origens, x='Origem', y='Número de Usinas', color='Origem', text='Número de Usinas')\r\n",
        "\r\n",
        "bar_plot2.update_layout(title_text='Número de usinas para cada tipo de origem da energia elétrica produdiza em Minas Gerais',\r\n",
        "                        yaxis_title = 'Número de unidades geradoras')\r\n",
        "                        \r\n",
        "bar_plot2.update_traces(texttemplate='%{text:}', textposition='outside')\r\n",
        "bar_plot2.show()"
      ],
      "execution_count": 36,
      "outputs": [
        {
          "output_type": "display_data",
          "data": {
            "text/html": [
              "<html>\n",
              "<head><meta charset=\"utf-8\" /></head>\n",
              "<body>\n",
              "    <div>\n",
              "            <script src=\"https://cdnjs.cloudflare.com/ajax/libs/mathjax/2.7.5/MathJax.js?config=TeX-AMS-MML_SVG\"></script><script type=\"text/javascript\">if (window.MathJax) {MathJax.Hub.Config({SVG: {font: \"STIX-Web\"}});}</script>\n",
              "                <script type=\"text/javascript\">window.PlotlyConfig = {MathJaxConfig: 'local'};</script>\n",
              "        <script src=\"https://cdn.plot.ly/plotly-latest.min.js\"></script>    \n",
              "            <div id=\"b4e743f4-b231-4873-99c6-911f5853d167\" class=\"plotly-graph-div\" style=\"height:525px; width:100%;\"></div>\n",
              "            <script type=\"text/javascript\">\n",
              "                \n",
              "                    window.PLOTLYENV=window.PLOTLYENV || {};\n",
              "                    \n",
              "                if (document.getElementById(\"b4e743f4-b231-4873-99c6-911f5853d167\")) {\n",
              "                    Plotly.newPlot(\n",
              "                        'b4e743f4-b231-4873-99c6-911f5853d167',\n",
              "                        [{\"alignmentgroup\": \"True\", \"hoverlabel\": {\"namelength\": 0}, \"hovertemplate\": \"Origem=%{x}<br>N\\u00famero de Usinas=%{text}\", \"legendgroup\": \"Origem=F\\u00f3ssil\", \"marker\": {\"color\": \"#636efa\"}, \"name\": \"Origem=F\\u00f3ssil\", \"offsetgroup\": \"Origem=F\\u00f3ssil\", \"orientation\": \"v\", \"showlegend\": true, \"text\": [365.0], \"textposition\": \"outside\", \"texttemplate\": \"%{text:}\", \"type\": \"bar\", \"x\": [\"F\\u00f3ssil\"], \"xaxis\": \"x\", \"y\": [365], \"yaxis\": \"y\"}, {\"alignmentgroup\": \"True\", \"hoverlabel\": {\"namelength\": 0}, \"hovertemplate\": \"Origem=%{x}<br>N\\u00famero de Usinas=%{text}\", \"legendgroup\": \"Origem=Solar\", \"marker\": {\"color\": \"#EF553B\"}, \"name\": \"Origem=Solar\", \"offsetgroup\": \"Origem=Solar\", \"orientation\": \"v\", \"showlegend\": true, \"text\": [299.0], \"textposition\": \"outside\", \"texttemplate\": \"%{text:}\", \"type\": \"bar\", \"x\": [\"Solar\"], \"xaxis\": \"x\", \"y\": [299], \"yaxis\": \"y\"}, {\"alignmentgroup\": \"True\", \"hoverlabel\": {\"namelength\": 0}, \"hovertemplate\": \"Origem=%{x}<br>N\\u00famero de Usinas=%{text}\", \"legendgroup\": \"Origem=H\\u00eddrica\", \"marker\": {\"color\": \"#00cc96\"}, \"name\": \"Origem=H\\u00eddrica\", \"offsetgroup\": \"Origem=H\\u00eddrica\", \"orientation\": \"v\", \"showlegend\": true, \"text\": [132.0], \"textposition\": \"outside\", \"texttemplate\": \"%{text:}\", \"type\": \"bar\", \"x\": [\"H\\u00eddrica\"], \"xaxis\": \"x\", \"y\": [132], \"yaxis\": \"y\"}, {\"alignmentgroup\": \"True\", \"hoverlabel\": {\"namelength\": 0}, \"hovertemplate\": \"Origem=%{x}<br>N\\u00famero de Usinas=%{text}\", \"legendgroup\": \"Origem=Biomassa\", \"marker\": {\"color\": \"#ab63fa\"}, \"name\": \"Origem=Biomassa\", \"offsetgroup\": \"Origem=Biomassa\", \"orientation\": \"v\", \"showlegend\": true, \"text\": [80.0], \"textposition\": \"outside\", \"texttemplate\": \"%{text:}\", \"type\": \"bar\", \"x\": [\"Biomassa\"], \"xaxis\": \"x\", \"y\": [80], \"yaxis\": \"y\"}, {\"alignmentgroup\": \"True\", \"hoverlabel\": {\"namelength\": 0}, \"hovertemplate\": \"Origem=%{x}<br>N\\u00famero de Usinas=%{text}\", \"legendgroup\": \"Origem=E\\u00f3lica\", \"marker\": {\"color\": \"#FFA15A\"}, \"name\": \"Origem=E\\u00f3lica\", \"offsetgroup\": \"Origem=E\\u00f3lica\", \"orientation\": \"v\", \"showlegend\": true, \"text\": [1.0], \"textposition\": \"outside\", \"texttemplate\": \"%{text:}\", \"type\": \"bar\", \"x\": [\"E\\u00f3lica\"], \"xaxis\": \"x\", \"y\": [1], \"yaxis\": \"y\"}],\n",
              "                        {\"barmode\": \"relative\", \"legend\": {\"tracegroupgap\": 0}, \"margin\": {\"t\": 60}, \"template\": {\"data\": {\"bar\": [{\"error_x\": {\"color\": \"#2a3f5f\"}, \"error_y\": {\"color\": \"#2a3f5f\"}, \"marker\": {\"line\": {\"color\": \"#E5ECF6\", \"width\": 0.5}}, \"type\": \"bar\"}], \"barpolar\": [{\"marker\": {\"line\": {\"color\": \"#E5ECF6\", \"width\": 0.5}}, \"type\": \"barpolar\"}], \"carpet\": [{\"aaxis\": {\"endlinecolor\": \"#2a3f5f\", \"gridcolor\": \"white\", \"linecolor\": \"white\", \"minorgridcolor\": \"white\", \"startlinecolor\": \"#2a3f5f\"}, \"baxis\": {\"endlinecolor\": \"#2a3f5f\", \"gridcolor\": \"white\", \"linecolor\": \"white\", \"minorgridcolor\": \"white\", \"startlinecolor\": \"#2a3f5f\"}, \"type\": \"carpet\"}], \"choropleth\": [{\"colorbar\": {\"outlinewidth\": 0, \"ticks\": \"\"}, \"type\": \"choropleth\"}], \"contour\": [{\"colorbar\": {\"outlinewidth\": 0, \"ticks\": \"\"}, \"colorscale\": [[0.0, \"#0d0887\"], [0.1111111111111111, \"#46039f\"], [0.2222222222222222, \"#7201a8\"], [0.3333333333333333, \"#9c179e\"], [0.4444444444444444, \"#bd3786\"], [0.5555555555555556, \"#d8576b\"], [0.6666666666666666, \"#ed7953\"], [0.7777777777777778, \"#fb9f3a\"], [0.8888888888888888, \"#fdca26\"], [1.0, \"#f0f921\"]], \"type\": \"contour\"}], \"contourcarpet\": [{\"colorbar\": {\"outlinewidth\": 0, \"ticks\": \"\"}, \"type\": \"contourcarpet\"}], \"heatmap\": [{\"colorbar\": {\"outlinewidth\": 0, \"ticks\": \"\"}, \"colorscale\": [[0.0, \"#0d0887\"], [0.1111111111111111, \"#46039f\"], [0.2222222222222222, \"#7201a8\"], [0.3333333333333333, \"#9c179e\"], [0.4444444444444444, \"#bd3786\"], [0.5555555555555556, \"#d8576b\"], [0.6666666666666666, \"#ed7953\"], [0.7777777777777778, \"#fb9f3a\"], [0.8888888888888888, \"#fdca26\"], [1.0, \"#f0f921\"]], \"type\": \"heatmap\"}], \"heatmapgl\": [{\"colorbar\": {\"outlinewidth\": 0, \"ticks\": \"\"}, \"colorscale\": [[0.0, \"#0d0887\"], [0.1111111111111111, \"#46039f\"], [0.2222222222222222, \"#7201a8\"], [0.3333333333333333, \"#9c179e\"], [0.4444444444444444, \"#bd3786\"], [0.5555555555555556, \"#d8576b\"], [0.6666666666666666, \"#ed7953\"], [0.7777777777777778, \"#fb9f3a\"], [0.8888888888888888, \"#fdca26\"], [1.0, \"#f0f921\"]], \"type\": \"heatmapgl\"}], \"histogram\": [{\"marker\": {\"colorbar\": {\"outlinewidth\": 0, \"ticks\": \"\"}}, \"type\": \"histogram\"}], \"histogram2d\": [{\"colorbar\": {\"outlinewidth\": 0, \"ticks\": \"\"}, \"colorscale\": [[0.0, \"#0d0887\"], [0.1111111111111111, \"#46039f\"], [0.2222222222222222, \"#7201a8\"], [0.3333333333333333, \"#9c179e\"], [0.4444444444444444, \"#bd3786\"], [0.5555555555555556, \"#d8576b\"], [0.6666666666666666, \"#ed7953\"], [0.7777777777777778, \"#fb9f3a\"], [0.8888888888888888, \"#fdca26\"], [1.0, \"#f0f921\"]], \"type\": \"histogram2d\"}], \"histogram2dcontour\": [{\"colorbar\": {\"outlinewidth\": 0, \"ticks\": \"\"}, \"colorscale\": [[0.0, \"#0d0887\"], [0.1111111111111111, \"#46039f\"], [0.2222222222222222, \"#7201a8\"], [0.3333333333333333, \"#9c179e\"], [0.4444444444444444, \"#bd3786\"], [0.5555555555555556, \"#d8576b\"], [0.6666666666666666, \"#ed7953\"], [0.7777777777777778, \"#fb9f3a\"], [0.8888888888888888, \"#fdca26\"], [1.0, \"#f0f921\"]], \"type\": \"histogram2dcontour\"}], \"mesh3d\": [{\"colorbar\": {\"outlinewidth\": 0, \"ticks\": \"\"}, \"type\": \"mesh3d\"}], \"parcoords\": [{\"line\": {\"colorbar\": {\"outlinewidth\": 0, \"ticks\": \"\"}}, \"type\": \"parcoords\"}], \"pie\": [{\"automargin\": true, \"type\": \"pie\"}], \"scatter\": [{\"marker\": {\"colorbar\": {\"outlinewidth\": 0, \"ticks\": \"\"}}, \"type\": \"scatter\"}], \"scatter3d\": [{\"line\": {\"colorbar\": {\"outlinewidth\": 0, \"ticks\": \"\"}}, \"marker\": {\"colorbar\": {\"outlinewidth\": 0, \"ticks\": \"\"}}, \"type\": \"scatter3d\"}], \"scattercarpet\": [{\"marker\": {\"colorbar\": {\"outlinewidth\": 0, \"ticks\": \"\"}}, \"type\": \"scattercarpet\"}], \"scattergeo\": [{\"marker\": {\"colorbar\": {\"outlinewidth\": 0, \"ticks\": \"\"}}, \"type\": \"scattergeo\"}], \"scattergl\": [{\"marker\": {\"colorbar\": {\"outlinewidth\": 0, \"ticks\": \"\"}}, \"type\": \"scattergl\"}], \"scattermapbox\": [{\"marker\": {\"colorbar\": {\"outlinewidth\": 0, \"ticks\": \"\"}}, \"type\": \"scattermapbox\"}], \"scatterpolar\": [{\"marker\": {\"colorbar\": {\"outlinewidth\": 0, \"ticks\": \"\"}}, \"type\": \"scatterpolar\"}], \"scatterpolargl\": [{\"marker\": {\"colorbar\": {\"outlinewidth\": 0, \"ticks\": \"\"}}, \"type\": \"scatterpolargl\"}], \"scatterternary\": [{\"marker\": {\"colorbar\": {\"outlinewidth\": 0, \"ticks\": \"\"}}, \"type\": \"scatterternary\"}], \"surface\": [{\"colorbar\": {\"outlinewidth\": 0, \"ticks\": \"\"}, \"colorscale\": [[0.0, \"#0d0887\"], [0.1111111111111111, \"#46039f\"], [0.2222222222222222, \"#7201a8\"], [0.3333333333333333, \"#9c179e\"], [0.4444444444444444, \"#bd3786\"], [0.5555555555555556, \"#d8576b\"], [0.6666666666666666, \"#ed7953\"], [0.7777777777777778, \"#fb9f3a\"], [0.8888888888888888, \"#fdca26\"], [1.0, \"#f0f921\"]], \"type\": \"surface\"}], \"table\": [{\"cells\": {\"fill\": {\"color\": \"#EBF0F8\"}, \"line\": {\"color\": \"white\"}}, \"header\": {\"fill\": {\"color\": \"#C8D4E3\"}, \"line\": {\"color\": \"white\"}}, \"type\": \"table\"}]}, \"layout\": {\"annotationdefaults\": {\"arrowcolor\": \"#2a3f5f\", \"arrowhead\": 0, \"arrowwidth\": 1}, \"coloraxis\": {\"colorbar\": {\"outlinewidth\": 0, \"ticks\": \"\"}}, \"colorscale\": {\"diverging\": [[0, \"#8e0152\"], [0.1, \"#c51b7d\"], [0.2, \"#de77ae\"], [0.3, \"#f1b6da\"], [0.4, \"#fde0ef\"], [0.5, \"#f7f7f7\"], [0.6, \"#e6f5d0\"], [0.7, \"#b8e186\"], [0.8, \"#7fbc41\"], [0.9, \"#4d9221\"], [1, \"#276419\"]], \"sequential\": [[0.0, \"#0d0887\"], [0.1111111111111111, \"#46039f\"], [0.2222222222222222, \"#7201a8\"], [0.3333333333333333, \"#9c179e\"], [0.4444444444444444, \"#bd3786\"], [0.5555555555555556, \"#d8576b\"], [0.6666666666666666, \"#ed7953\"], [0.7777777777777778, \"#fb9f3a\"], [0.8888888888888888, \"#fdca26\"], [1.0, \"#f0f921\"]], \"sequentialminus\": [[0.0, \"#0d0887\"], [0.1111111111111111, \"#46039f\"], [0.2222222222222222, \"#7201a8\"], [0.3333333333333333, \"#9c179e\"], [0.4444444444444444, \"#bd3786\"], [0.5555555555555556, \"#d8576b\"], [0.6666666666666666, \"#ed7953\"], [0.7777777777777778, \"#fb9f3a\"], [0.8888888888888888, \"#fdca26\"], [1.0, \"#f0f921\"]]}, \"colorway\": [\"#636efa\", \"#EF553B\", \"#00cc96\", \"#ab63fa\", \"#FFA15A\", \"#19d3f3\", \"#FF6692\", \"#B6E880\", \"#FF97FF\", \"#FECB52\"], \"font\": {\"color\": \"#2a3f5f\"}, \"geo\": {\"bgcolor\": \"white\", \"lakecolor\": \"white\", \"landcolor\": \"#E5ECF6\", \"showlakes\": true, \"showland\": true, \"subunitcolor\": \"white\"}, \"hoverlabel\": {\"align\": \"left\"}, \"hovermode\": \"closest\", \"mapbox\": {\"style\": \"light\"}, \"paper_bgcolor\": \"white\", \"plot_bgcolor\": \"#E5ECF6\", \"polar\": {\"angularaxis\": {\"gridcolor\": \"white\", \"linecolor\": \"white\", \"ticks\": \"\"}, \"bgcolor\": \"#E5ECF6\", \"radialaxis\": {\"gridcolor\": \"white\", \"linecolor\": \"white\", \"ticks\": \"\"}}, \"scene\": {\"xaxis\": {\"backgroundcolor\": \"#E5ECF6\", \"gridcolor\": \"white\", \"gridwidth\": 2, \"linecolor\": \"white\", \"showbackground\": true, \"ticks\": \"\", \"zerolinecolor\": \"white\"}, \"yaxis\": {\"backgroundcolor\": \"#E5ECF6\", \"gridcolor\": \"white\", \"gridwidth\": 2, \"linecolor\": \"white\", \"showbackground\": true, \"ticks\": \"\", \"zerolinecolor\": \"white\"}, \"zaxis\": {\"backgroundcolor\": \"#E5ECF6\", \"gridcolor\": \"white\", \"gridwidth\": 2, \"linecolor\": \"white\", \"showbackground\": true, \"ticks\": \"\", \"zerolinecolor\": \"white\"}}, \"shapedefaults\": {\"line\": {\"color\": \"#2a3f5f\"}}, \"ternary\": {\"aaxis\": {\"gridcolor\": \"white\", \"linecolor\": \"white\", \"ticks\": \"\"}, \"baxis\": {\"gridcolor\": \"white\", \"linecolor\": \"white\", \"ticks\": \"\"}, \"bgcolor\": \"#E5ECF6\", \"caxis\": {\"gridcolor\": \"white\", \"linecolor\": \"white\", \"ticks\": \"\"}}, \"title\": {\"x\": 0.05}, \"xaxis\": {\"automargin\": true, \"gridcolor\": \"white\", \"linecolor\": \"white\", \"ticks\": \"\", \"title\": {\"standoff\": 15}, \"zerolinecolor\": \"white\", \"zerolinewidth\": 2}, \"yaxis\": {\"automargin\": true, \"gridcolor\": \"white\", \"linecolor\": \"white\", \"ticks\": \"\", \"title\": {\"standoff\": 15}, \"zerolinecolor\": \"white\", \"zerolinewidth\": 2}}}, \"title\": {\"text\": \"N\\u00famero de usinas para cada tipo de origem da energia el\\u00e9trica produdiza em Minas Gerais\"}, \"xaxis\": {\"anchor\": \"y\", \"categoryarray\": [\"F\\u00f3ssil\", \"Solar\", \"H\\u00eddrica\", \"Biomassa\", \"E\\u00f3lica\"], \"categoryorder\": \"array\", \"domain\": [0.0, 1.0], \"title\": {\"text\": \"Origem\"}}, \"yaxis\": {\"anchor\": \"x\", \"domain\": [0.0, 1.0], \"title\": {\"text\": \"N\\u00famero de unidades geradoras\"}}},\n",
              "                        {\"responsive\": true}\n",
              "                    ).then(function(){\n",
              "                            \n",
              "var gd = document.getElementById('b4e743f4-b231-4873-99c6-911f5853d167');\n",
              "var x = new MutationObserver(function (mutations, observer) {{\n",
              "        var display = window.getComputedStyle(gd).display;\n",
              "        if (!display || display === 'none') {{\n",
              "            console.log([gd, 'removed!']);\n",
              "            Plotly.purge(gd);\n",
              "            observer.disconnect();\n",
              "        }}\n",
              "}});\n",
              "\n",
              "// Listen for the removal of the full notebook cells\n",
              "var notebookContainer = gd.closest('#notebook-container');\n",
              "if (notebookContainer) {{\n",
              "    x.observe(notebookContainer, {childList: true});\n",
              "}}\n",
              "\n",
              "// Listen for the clearing of the current output cell\n",
              "var outputEl = gd.closest('.output');\n",
              "if (outputEl) {{\n",
              "    x.observe(outputEl, {childList: true});\n",
              "}}\n",
              "\n",
              "                        })\n",
              "                };\n",
              "                \n",
              "            </script>\n",
              "        </div>\n",
              "</body>\n",
              "</html>"
            ]
          },
          "metadata": {
            "tags": []
          }
        }
      ]
    },
    {
      "cell_type": "markdown",
      "metadata": {
        "id": "BLGDh3bn77yv"
      },
      "source": [
        "Criação de uma tabela para mostrar quanto de potência cada tipo de geração produz no estado"
      ]
    },
    {
      "cell_type": "code",
      "metadata": {
        "id": "wnTj3oWbx-ae",
        "colab": {
          "base_uri": "https://localhost:8080/",
          "height": 195
        },
        "outputId": "17a4d9f9-b596-453d-bfe7-8f11be498378"
      },
      "source": [
        "capacidade = []\r\n",
        "for i in origem:\r\n",
        "  soma = usinas_op.loc[usinas_op['Origem']==i].Potência_kW.sum()\r\n",
        "  soma = (soma / 1000).round(2)\r\n",
        "  capacidade.append(soma)\r\n",
        "\r\n",
        "cap_por_origem = {'Origem': origem, 'Potência produzida (MW)': capacidade}\r\n",
        "cap_por_origem = pd.DataFrame(cap_por_origem)\r\n",
        "cap_por_origem\r\n"
      ],
      "execution_count": 37,
      "outputs": [
        {
          "output_type": "execute_result",
          "data": {
            "text/html": [
              "<div>\n",
              "<style scoped>\n",
              "    .dataframe tbody tr th:only-of-type {\n",
              "        vertical-align: middle;\n",
              "    }\n",
              "\n",
              "    .dataframe tbody tr th {\n",
              "        vertical-align: top;\n",
              "    }\n",
              "\n",
              "    .dataframe thead th {\n",
              "        text-align: right;\n",
              "    }\n",
              "</style>\n",
              "<table border=\"1\" class=\"dataframe\">\n",
              "  <thead>\n",
              "    <tr style=\"text-align: right;\">\n",
              "      <th></th>\n",
              "      <th>Origem</th>\n",
              "      <th>Potência produzida (MW)</th>\n",
              "    </tr>\n",
              "  </thead>\n",
              "  <tbody>\n",
              "    <tr>\n",
              "      <th>0</th>\n",
              "      <td>Fóssil</td>\n",
              "      <td>947.97</td>\n",
              "    </tr>\n",
              "    <tr>\n",
              "      <th>1</th>\n",
              "      <td>Solar</td>\n",
              "      <td>541.82</td>\n",
              "    </tr>\n",
              "    <tr>\n",
              "      <th>2</th>\n",
              "      <td>Hídrica</td>\n",
              "      <td>13528.75</td>\n",
              "    </tr>\n",
              "    <tr>\n",
              "      <th>3</th>\n",
              "      <td>Biomassa</td>\n",
              "      <td>1707.72</td>\n",
              "    </tr>\n",
              "    <tr>\n",
              "      <th>4</th>\n",
              "      <td>Eólica</td>\n",
              "      <td>0.16</td>\n",
              "    </tr>\n",
              "  </tbody>\n",
              "</table>\n",
              "</div>"
            ],
            "text/plain": [
              "     Origem  Potência produzida (MW)\n",
              "0    Fóssil                   947.97\n",
              "1     Solar                   541.82\n",
              "2   Hídrica                 13528.75\n",
              "3  Biomassa                  1707.72\n",
              "4    Eólica                     0.16"
            ]
          },
          "metadata": {
            "tags": []
          },
          "execution_count": 37
        }
      ]
    },
    {
      "cell_type": "code",
      "metadata": {
        "id": "4SRBSVq581UT"
      },
      "source": [
        "Criação do gráfico de capacidade geradora de cada tipo de usina, em MW"
      ],
      "execution_count": null,
      "outputs": []
    },
    {
      "cell_type": "code",
      "metadata": {
        "colab": {
          "base_uri": "https://localhost:8080/",
          "height": 542
        },
        "id": "_oN8kkLq12th",
        "outputId": "cc0cfb86-5e1d-454c-ad65-7ceb4a07d08e"
      },
      "source": [
        "bar_plot3 = px.bar(cap_por_origem, x='Origem', y='Potência produzida (MW)', color='Origem', text='Potência produzida (MW)')\r\n",
        "\r\n",
        "bar_plot3.update_layout(title_text='Capacidade de geração para cada tipo de origem da eletricidade produzida em Minas Gerais',\r\n",
        "                        yaxis_title = 'Megawatts gerados')\r\n",
        "                        \r\n",
        "bar_plot3.update_traces(texttemplate='%{text:}', textposition='outside')\r\n",
        "bar_plot3.show()"
      ],
      "execution_count": 38,
      "outputs": [
        {
          "output_type": "display_data",
          "data": {
            "text/html": [
              "<html>\n",
              "<head><meta charset=\"utf-8\" /></head>\n",
              "<body>\n",
              "    <div>\n",
              "            <script src=\"https://cdnjs.cloudflare.com/ajax/libs/mathjax/2.7.5/MathJax.js?config=TeX-AMS-MML_SVG\"></script><script type=\"text/javascript\">if (window.MathJax) {MathJax.Hub.Config({SVG: {font: \"STIX-Web\"}});}</script>\n",
              "                <script type=\"text/javascript\">window.PlotlyConfig = {MathJaxConfig: 'local'};</script>\n",
              "        <script src=\"https://cdn.plot.ly/plotly-latest.min.js\"></script>    \n",
              "            <div id=\"2d3c86f0-9bfe-46d8-9cbf-c4ff809b8ebd\" class=\"plotly-graph-div\" style=\"height:525px; width:100%;\"></div>\n",
              "            <script type=\"text/javascript\">\n",
              "                \n",
              "                    window.PLOTLYENV=window.PLOTLYENV || {};\n",
              "                    \n",
              "                if (document.getElementById(\"2d3c86f0-9bfe-46d8-9cbf-c4ff809b8ebd\")) {\n",
              "                    Plotly.newPlot(\n",
              "                        '2d3c86f0-9bfe-46d8-9cbf-c4ff809b8ebd',\n",
              "                        [{\"alignmentgroup\": \"True\", \"hoverlabel\": {\"namelength\": 0}, \"hovertemplate\": \"Origem=%{x}<br>Pot\\u00eancia produzida (MW)=%{text}\", \"legendgroup\": \"Origem=F\\u00f3ssil\", \"marker\": {\"color\": \"#636efa\"}, \"name\": \"Origem=F\\u00f3ssil\", \"offsetgroup\": \"Origem=F\\u00f3ssil\", \"orientation\": \"v\", \"showlegend\": true, \"text\": [947.97], \"textposition\": \"outside\", \"texttemplate\": \"%{text:}\", \"type\": \"bar\", \"x\": [\"F\\u00f3ssil\"], \"xaxis\": \"x\", \"y\": [947.97], \"yaxis\": \"y\"}, {\"alignmentgroup\": \"True\", \"hoverlabel\": {\"namelength\": 0}, \"hovertemplate\": \"Origem=%{x}<br>Pot\\u00eancia produzida (MW)=%{text}\", \"legendgroup\": \"Origem=Solar\", \"marker\": {\"color\": \"#EF553B\"}, \"name\": \"Origem=Solar\", \"offsetgroup\": \"Origem=Solar\", \"orientation\": \"v\", \"showlegend\": true, \"text\": [541.82], \"textposition\": \"outside\", \"texttemplate\": \"%{text:}\", \"type\": \"bar\", \"x\": [\"Solar\"], \"xaxis\": \"x\", \"y\": [541.82], \"yaxis\": \"y\"}, {\"alignmentgroup\": \"True\", \"hoverlabel\": {\"namelength\": 0}, \"hovertemplate\": \"Origem=%{x}<br>Pot\\u00eancia produzida (MW)=%{text}\", \"legendgroup\": \"Origem=H\\u00eddrica\", \"marker\": {\"color\": \"#00cc96\"}, \"name\": \"Origem=H\\u00eddrica\", \"offsetgroup\": \"Origem=H\\u00eddrica\", \"orientation\": \"v\", \"showlegend\": true, \"text\": [13528.75], \"textposition\": \"outside\", \"texttemplate\": \"%{text:}\", \"type\": \"bar\", \"x\": [\"H\\u00eddrica\"], \"xaxis\": \"x\", \"y\": [13528.75], \"yaxis\": \"y\"}, {\"alignmentgroup\": \"True\", \"hoverlabel\": {\"namelength\": 0}, \"hovertemplate\": \"Origem=%{x}<br>Pot\\u00eancia produzida (MW)=%{text}\", \"legendgroup\": \"Origem=Biomassa\", \"marker\": {\"color\": \"#ab63fa\"}, \"name\": \"Origem=Biomassa\", \"offsetgroup\": \"Origem=Biomassa\", \"orientation\": \"v\", \"showlegend\": true, \"text\": [1707.72], \"textposition\": \"outside\", \"texttemplate\": \"%{text:}\", \"type\": \"bar\", \"x\": [\"Biomassa\"], \"xaxis\": \"x\", \"y\": [1707.72], \"yaxis\": \"y\"}, {\"alignmentgroup\": \"True\", \"hoverlabel\": {\"namelength\": 0}, \"hovertemplate\": \"Origem=%{x}<br>Pot\\u00eancia produzida (MW)=%{text}\", \"legendgroup\": \"Origem=E\\u00f3lica\", \"marker\": {\"color\": \"#FFA15A\"}, \"name\": \"Origem=E\\u00f3lica\", \"offsetgroup\": \"Origem=E\\u00f3lica\", \"orientation\": \"v\", \"showlegend\": true, \"text\": [0.16], \"textposition\": \"outside\", \"texttemplate\": \"%{text:}\", \"type\": \"bar\", \"x\": [\"E\\u00f3lica\"], \"xaxis\": \"x\", \"y\": [0.16], \"yaxis\": \"y\"}],\n",
              "                        {\"barmode\": \"relative\", \"legend\": {\"tracegroupgap\": 0}, \"margin\": {\"t\": 60}, \"template\": {\"data\": {\"bar\": [{\"error_x\": {\"color\": \"#2a3f5f\"}, \"error_y\": {\"color\": \"#2a3f5f\"}, \"marker\": {\"line\": {\"color\": \"#E5ECF6\", \"width\": 0.5}}, \"type\": \"bar\"}], \"barpolar\": [{\"marker\": {\"line\": {\"color\": \"#E5ECF6\", \"width\": 0.5}}, \"type\": \"barpolar\"}], \"carpet\": [{\"aaxis\": {\"endlinecolor\": \"#2a3f5f\", \"gridcolor\": \"white\", \"linecolor\": \"white\", \"minorgridcolor\": \"white\", \"startlinecolor\": \"#2a3f5f\"}, \"baxis\": {\"endlinecolor\": \"#2a3f5f\", \"gridcolor\": \"white\", \"linecolor\": \"white\", \"minorgridcolor\": \"white\", \"startlinecolor\": \"#2a3f5f\"}, \"type\": \"carpet\"}], \"choropleth\": [{\"colorbar\": {\"outlinewidth\": 0, \"ticks\": \"\"}, \"type\": \"choropleth\"}], \"contour\": [{\"colorbar\": {\"outlinewidth\": 0, \"ticks\": \"\"}, \"colorscale\": [[0.0, \"#0d0887\"], [0.1111111111111111, \"#46039f\"], [0.2222222222222222, \"#7201a8\"], [0.3333333333333333, \"#9c179e\"], [0.4444444444444444, \"#bd3786\"], [0.5555555555555556, \"#d8576b\"], [0.6666666666666666, \"#ed7953\"], [0.7777777777777778, \"#fb9f3a\"], [0.8888888888888888, \"#fdca26\"], [1.0, \"#f0f921\"]], \"type\": \"contour\"}], \"contourcarpet\": [{\"colorbar\": {\"outlinewidth\": 0, \"ticks\": \"\"}, \"type\": \"contourcarpet\"}], \"heatmap\": [{\"colorbar\": {\"outlinewidth\": 0, \"ticks\": \"\"}, \"colorscale\": [[0.0, \"#0d0887\"], [0.1111111111111111, \"#46039f\"], [0.2222222222222222, \"#7201a8\"], [0.3333333333333333, \"#9c179e\"], [0.4444444444444444, \"#bd3786\"], [0.5555555555555556, \"#d8576b\"], [0.6666666666666666, \"#ed7953\"], [0.7777777777777778, \"#fb9f3a\"], [0.8888888888888888, \"#fdca26\"], [1.0, \"#f0f921\"]], \"type\": \"heatmap\"}], \"heatmapgl\": [{\"colorbar\": {\"outlinewidth\": 0, \"ticks\": \"\"}, \"colorscale\": [[0.0, \"#0d0887\"], [0.1111111111111111, \"#46039f\"], [0.2222222222222222, \"#7201a8\"], [0.3333333333333333, \"#9c179e\"], [0.4444444444444444, \"#bd3786\"], [0.5555555555555556, \"#d8576b\"], [0.6666666666666666, \"#ed7953\"], [0.7777777777777778, \"#fb9f3a\"], [0.8888888888888888, \"#fdca26\"], [1.0, \"#f0f921\"]], \"type\": \"heatmapgl\"}], \"histogram\": [{\"marker\": {\"colorbar\": {\"outlinewidth\": 0, \"ticks\": \"\"}}, \"type\": \"histogram\"}], \"histogram2d\": [{\"colorbar\": {\"outlinewidth\": 0, \"ticks\": \"\"}, \"colorscale\": [[0.0, \"#0d0887\"], [0.1111111111111111, \"#46039f\"], [0.2222222222222222, \"#7201a8\"], [0.3333333333333333, \"#9c179e\"], [0.4444444444444444, \"#bd3786\"], [0.5555555555555556, \"#d8576b\"], [0.6666666666666666, \"#ed7953\"], [0.7777777777777778, \"#fb9f3a\"], [0.8888888888888888, \"#fdca26\"], [1.0, \"#f0f921\"]], \"type\": \"histogram2d\"}], \"histogram2dcontour\": [{\"colorbar\": {\"outlinewidth\": 0, \"ticks\": \"\"}, \"colorscale\": [[0.0, \"#0d0887\"], [0.1111111111111111, \"#46039f\"], [0.2222222222222222, \"#7201a8\"], [0.3333333333333333, \"#9c179e\"], [0.4444444444444444, \"#bd3786\"], [0.5555555555555556, \"#d8576b\"], [0.6666666666666666, \"#ed7953\"], [0.7777777777777778, \"#fb9f3a\"], [0.8888888888888888, \"#fdca26\"], [1.0, \"#f0f921\"]], \"type\": \"histogram2dcontour\"}], \"mesh3d\": [{\"colorbar\": {\"outlinewidth\": 0, \"ticks\": \"\"}, \"type\": \"mesh3d\"}], \"parcoords\": [{\"line\": {\"colorbar\": {\"outlinewidth\": 0, \"ticks\": \"\"}}, \"type\": \"parcoords\"}], \"pie\": [{\"automargin\": true, \"type\": \"pie\"}], \"scatter\": [{\"marker\": {\"colorbar\": {\"outlinewidth\": 0, \"ticks\": \"\"}}, \"type\": \"scatter\"}], \"scatter3d\": [{\"line\": {\"colorbar\": {\"outlinewidth\": 0, \"ticks\": \"\"}}, \"marker\": {\"colorbar\": {\"outlinewidth\": 0, \"ticks\": \"\"}}, \"type\": \"scatter3d\"}], \"scattercarpet\": [{\"marker\": {\"colorbar\": {\"outlinewidth\": 0, \"ticks\": \"\"}}, \"type\": \"scattercarpet\"}], \"scattergeo\": [{\"marker\": {\"colorbar\": {\"outlinewidth\": 0, \"ticks\": \"\"}}, \"type\": \"scattergeo\"}], \"scattergl\": [{\"marker\": {\"colorbar\": {\"outlinewidth\": 0, \"ticks\": \"\"}}, \"type\": \"scattergl\"}], \"scattermapbox\": [{\"marker\": {\"colorbar\": {\"outlinewidth\": 0, \"ticks\": \"\"}}, \"type\": \"scattermapbox\"}], \"scatterpolar\": [{\"marker\": {\"colorbar\": {\"outlinewidth\": 0, \"ticks\": \"\"}}, \"type\": \"scatterpolar\"}], \"scatterpolargl\": [{\"marker\": {\"colorbar\": {\"outlinewidth\": 0, \"ticks\": \"\"}}, \"type\": \"scatterpolargl\"}], \"scatterternary\": [{\"marker\": {\"colorbar\": {\"outlinewidth\": 0, \"ticks\": \"\"}}, \"type\": \"scatterternary\"}], \"surface\": [{\"colorbar\": {\"outlinewidth\": 0, \"ticks\": \"\"}, \"colorscale\": [[0.0, \"#0d0887\"], [0.1111111111111111, \"#46039f\"], [0.2222222222222222, \"#7201a8\"], [0.3333333333333333, \"#9c179e\"], [0.4444444444444444, \"#bd3786\"], [0.5555555555555556, \"#d8576b\"], [0.6666666666666666, \"#ed7953\"], [0.7777777777777778, \"#fb9f3a\"], [0.8888888888888888, \"#fdca26\"], [1.0, \"#f0f921\"]], \"type\": \"surface\"}], \"table\": [{\"cells\": {\"fill\": {\"color\": \"#EBF0F8\"}, \"line\": {\"color\": \"white\"}}, \"header\": {\"fill\": {\"color\": \"#C8D4E3\"}, \"line\": {\"color\": \"white\"}}, \"type\": \"table\"}]}, \"layout\": {\"annotationdefaults\": {\"arrowcolor\": \"#2a3f5f\", \"arrowhead\": 0, \"arrowwidth\": 1}, \"coloraxis\": {\"colorbar\": {\"outlinewidth\": 0, \"ticks\": \"\"}}, \"colorscale\": {\"diverging\": [[0, \"#8e0152\"], [0.1, \"#c51b7d\"], [0.2, \"#de77ae\"], [0.3, \"#f1b6da\"], [0.4, \"#fde0ef\"], [0.5, \"#f7f7f7\"], [0.6, \"#e6f5d0\"], [0.7, \"#b8e186\"], [0.8, \"#7fbc41\"], [0.9, \"#4d9221\"], [1, \"#276419\"]], \"sequential\": [[0.0, \"#0d0887\"], [0.1111111111111111, \"#46039f\"], [0.2222222222222222, \"#7201a8\"], [0.3333333333333333, \"#9c179e\"], [0.4444444444444444, \"#bd3786\"], [0.5555555555555556, \"#d8576b\"], [0.6666666666666666, \"#ed7953\"], [0.7777777777777778, \"#fb9f3a\"], [0.8888888888888888, \"#fdca26\"], [1.0, \"#f0f921\"]], \"sequentialminus\": [[0.0, \"#0d0887\"], [0.1111111111111111, \"#46039f\"], [0.2222222222222222, \"#7201a8\"], [0.3333333333333333, \"#9c179e\"], [0.4444444444444444, \"#bd3786\"], [0.5555555555555556, \"#d8576b\"], [0.6666666666666666, \"#ed7953\"], [0.7777777777777778, \"#fb9f3a\"], [0.8888888888888888, \"#fdca26\"], [1.0, \"#f0f921\"]]}, \"colorway\": [\"#636efa\", \"#EF553B\", \"#00cc96\", \"#ab63fa\", \"#FFA15A\", \"#19d3f3\", \"#FF6692\", \"#B6E880\", \"#FF97FF\", \"#FECB52\"], \"font\": {\"color\": \"#2a3f5f\"}, \"geo\": {\"bgcolor\": \"white\", \"lakecolor\": \"white\", \"landcolor\": \"#E5ECF6\", \"showlakes\": true, \"showland\": true, \"subunitcolor\": \"white\"}, \"hoverlabel\": {\"align\": \"left\"}, \"hovermode\": \"closest\", \"mapbox\": {\"style\": \"light\"}, \"paper_bgcolor\": \"white\", \"plot_bgcolor\": \"#E5ECF6\", \"polar\": {\"angularaxis\": {\"gridcolor\": \"white\", \"linecolor\": \"white\", \"ticks\": \"\"}, \"bgcolor\": \"#E5ECF6\", \"radialaxis\": {\"gridcolor\": \"white\", \"linecolor\": \"white\", \"ticks\": \"\"}}, \"scene\": {\"xaxis\": {\"backgroundcolor\": \"#E5ECF6\", \"gridcolor\": \"white\", \"gridwidth\": 2, \"linecolor\": \"white\", \"showbackground\": true, \"ticks\": \"\", \"zerolinecolor\": \"white\"}, \"yaxis\": {\"backgroundcolor\": \"#E5ECF6\", \"gridcolor\": \"white\", \"gridwidth\": 2, \"linecolor\": \"white\", \"showbackground\": true, \"ticks\": \"\", \"zerolinecolor\": \"white\"}, \"zaxis\": {\"backgroundcolor\": \"#E5ECF6\", \"gridcolor\": \"white\", \"gridwidth\": 2, \"linecolor\": \"white\", \"showbackground\": true, \"ticks\": \"\", \"zerolinecolor\": \"white\"}}, \"shapedefaults\": {\"line\": {\"color\": \"#2a3f5f\"}}, \"ternary\": {\"aaxis\": {\"gridcolor\": \"white\", \"linecolor\": \"white\", \"ticks\": \"\"}, \"baxis\": {\"gridcolor\": \"white\", \"linecolor\": \"white\", \"ticks\": \"\"}, \"bgcolor\": \"#E5ECF6\", \"caxis\": {\"gridcolor\": \"white\", \"linecolor\": \"white\", \"ticks\": \"\"}}, \"title\": {\"x\": 0.05}, \"xaxis\": {\"automargin\": true, \"gridcolor\": \"white\", \"linecolor\": \"white\", \"ticks\": \"\", \"title\": {\"standoff\": 15}, \"zerolinecolor\": \"white\", \"zerolinewidth\": 2}, \"yaxis\": {\"automargin\": true, \"gridcolor\": \"white\", \"linecolor\": \"white\", \"ticks\": \"\", \"title\": {\"standoff\": 15}, \"zerolinecolor\": \"white\", \"zerolinewidth\": 2}}}, \"title\": {\"text\": \"Capacidade de gera\\u00e7\\u00e3o para cada tipo de origem da eletricidade produzida em Minas Gerais\"}, \"xaxis\": {\"anchor\": \"y\", \"categoryarray\": [\"F\\u00f3ssil\", \"Solar\", \"H\\u00eddrica\", \"Biomassa\", \"E\\u00f3lica\"], \"categoryorder\": \"array\", \"domain\": [0.0, 1.0], \"title\": {\"text\": \"Origem\"}}, \"yaxis\": {\"anchor\": \"x\", \"domain\": [0.0, 1.0], \"title\": {\"text\": \"Megawatts gerados\"}}},\n",
              "                        {\"responsive\": true}\n",
              "                    ).then(function(){\n",
              "                            \n",
              "var gd = document.getElementById('2d3c86f0-9bfe-46d8-9cbf-c4ff809b8ebd');\n",
              "var x = new MutationObserver(function (mutations, observer) {{\n",
              "        var display = window.getComputedStyle(gd).display;\n",
              "        if (!display || display === 'none') {{\n",
              "            console.log([gd, 'removed!']);\n",
              "            Plotly.purge(gd);\n",
              "            observer.disconnect();\n",
              "        }}\n",
              "}});\n",
              "\n",
              "// Listen for the removal of the full notebook cells\n",
              "var notebookContainer = gd.closest('#notebook-container');\n",
              "if (notebookContainer) {{\n",
              "    x.observe(notebookContainer, {childList: true});\n",
              "}}\n",
              "\n",
              "// Listen for the clearing of the current output cell\n",
              "var outputEl = gd.closest('.output');\n",
              "if (outputEl) {{\n",
              "    x.observe(outputEl, {childList: true});\n",
              "}}\n",
              "\n",
              "                        })\n",
              "                };\n",
              "                \n",
              "            </script>\n",
              "        </div>\n",
              "</body>\n",
              "</html>"
            ]
          },
          "metadata": {
            "tags": []
          }
        }
      ]
    }
  ]
}
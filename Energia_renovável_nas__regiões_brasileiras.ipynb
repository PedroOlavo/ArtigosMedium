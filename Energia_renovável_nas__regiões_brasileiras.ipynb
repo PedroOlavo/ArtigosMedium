{
  "nbformat": 4,
  "nbformat_minor": 0,
  "metadata": {
    "colab": {
      "name": "Energia_renovável_nas _regiões_brasileiras.ipynb",
      "provenance": [],
      "collapsed_sections": [],
      "mount_file_id": "117qWeEn_zBV8q-Swvez1X_xRXNAUQudg",
      "authorship_tag": "ABX9TyMdmZYbx3VmigcSpHGFwMU0",
      "include_colab_link": true
    },
    "kernelspec": {
      "name": "python3",
      "display_name": "Python 3"
    }
  },
  "cells": [
    {
      "cell_type": "markdown",
      "metadata": {
        "id": "view-in-github",
        "colab_type": "text"
      },
      "source": [
        "<a href=\"https://colab.research.google.com/github/PedroOlavo/ArtigosMedium/blob/main/Energia_renov%C3%A1vel_nas__regi%C3%B5es_brasileiras.ipynb\" target=\"_parent\"><img src=\"https://colab.research.google.com/assets/colab-badge.svg\" alt=\"Open In Colab\"/></a>"
      ]
    },
    {
      "cell_type": "markdown",
      "metadata": {
        "id": "Vm2EIFr6Jhea"
      },
      "source": [
        "# Análise das usinas geradoras de energia elétrica renovável no Brasil\r\n",
        "\r\n",
        "A energia elétrica é uma das maiores criações da humanidade, fez que com vencessemos a escuridão da noite, ajudou a aumentar a nossa força produtiva e afins. Além disso, atualmente é impossível imaginar uma vida sem energia elétrica.\r\n",
        "\r\n",
        "Para conseguir gerar esse bem tão importante há diversas formas: queimando carvão, usando a força dos rios, o movimento dos ventos etc. Porém algumas dessas formas são danosas ao nosso planeta, por exemplo o lixo radiotivo das usinas nucleares.\r\n",
        "\r\n",
        "\r\n",
        "Tendo isso em mente, neste notebook analisarei uma base de dados disponibilizada pela ANEEL, a Agência Nacional de Energia Elétrica, e focarei nas formas de produção de energia renovável.\r\n",
        "\r\n",
        "No Brasil, grande parte da energia elétrica produzida é originada de fontes renováveis. Tais fontes são decorrentes de recursos naturais que sempre se encontram disponíveis para utilização ou sejam reutilizáveis.\r\n",
        "\r\n",
        "Tentarei descobrir as diferenças na geração em cada região, se algum tipo de usina é mais presente em uma região do que em outras e afins."
      ]
    },
    {
      "cell_type": "markdown",
      "metadata": {
        "id": "IwqYlndFKZWd"
      },
      "source": [
        "Para começar, as bibliotecas necessárias serão importadas sendo elas:\r\n",
        "\r\n",
        "\r\n",
        "*   Pandas, para visualizar e trabalhar os dados;\r\n",
        "*   Matplotlib, permite que customize as visualizações gráficas;\r\n",
        "*   Seaborn, biblioteca que contém diversos gráficos úteis para análises.\r\n"
      ]
    },
    {
      "cell_type": "code",
      "metadata": {
        "id": "sqWh0DZ0Zv7a"
      },
      "source": [
        "import pandas as pd\r\n",
        "import numpy as np\r\n",
        "import matplotlib.pyplot as plt\r\n",
        "import seaborn as sns"
      ],
      "execution_count": 58,
      "outputs": []
    },
    {
      "cell_type": "markdown",
      "metadata": {
        "id": "GawLCk28LPEe"
      },
      "source": [
        "Então mãos à obra.\r\n",
        "\r\n",
        "O estudo é iniciado carregando o banco de dados."
      ]
    },
    {
      "cell_type": "code",
      "metadata": {
        "colab": {
          "base_uri": "https://localhost:8080/",
          "height": 501
        },
        "id": "Zk1swFd5Z8kv",
        "outputId": "c9681466-9130-4064-c765-f531e64d69b5"
      },
      "source": [
        "dados = pd.read_excel('/content/drive/MyDrive/BD SIGA 01012021.xlsx', header=1)\r\n",
        "dados.head()"
      ],
      "execution_count": 59,
      "outputs": [
        {
          "output_type": "execute_result",
          "data": {
            "text/html": [
              "<div>\n",
              "<style scoped>\n",
              "    .dataframe tbody tr th:only-of-type {\n",
              "        vertical-align: middle;\n",
              "    }\n",
              "\n",
              "    .dataframe tbody tr th {\n",
              "        vertical-align: top;\n",
              "    }\n",
              "\n",
              "    .dataframe thead th {\n",
              "        text-align: right;\n",
              "    }\n",
              "</style>\n",
              "<table border=\"1\" class=\"dataframe\">\n",
              "  <thead>\n",
              "    <tr style=\"text-align: right;\">\n",
              "      <th></th>\n",
              "      <th>Empreendimento</th>\n",
              "      <th>CEG</th>\n",
              "      <th>UF</th>\n",
              "      <th>Fonte</th>\n",
              "      <th>Fase</th>\n",
              "      <th>Origem</th>\n",
              "      <th>Tipo</th>\n",
              "      <th>Tipo de Atuação</th>\n",
              "      <th>Combustível Final</th>\n",
              "      <th>Entrada em Operação</th>\n",
              "      <th>Potência Outorgada (kW)</th>\n",
              "      <th>Potência Fiscalizada (kW)</th>\n",
              "      <th>Garantia Fisica (kW)</th>\n",
              "      <th>Geração Qualificada</th>\n",
              "      <th>Latitude (GMS)</th>\n",
              "      <th>Longitude (GMS)</th>\n",
              "      <th>Início Vigência</th>\n",
              "      <th>Fim Vigência</th>\n",
              "      <th>Proprietário / Regime de Exploração</th>\n",
              "      <th>Cod e Desc Sub-Bacia</th>\n",
              "      <th>Município (s)</th>\n",
              "    </tr>\n",
              "  </thead>\n",
              "  <tbody>\n",
              "    <tr>\n",
              "      <th>0</th>\n",
              "      <td>14 de Julho</td>\n",
              "      <td>UHE.PH.RS.000012-4</td>\n",
              "      <td>RS</td>\n",
              "      <td>UHE</td>\n",
              "      <td>Operação</td>\n",
              "      <td>Hídrica</td>\n",
              "      <td>Potencial hidráulico</td>\n",
              "      <td>Concessão</td>\n",
              "      <td>Potencial hidráulico</td>\n",
              "      <td>25/12/2008</td>\n",
              "      <td>100000.0</td>\n",
              "      <td>100710.0</td>\n",
              "      <td>47500</td>\n",
              "      <td>Não</td>\n",
              "      <td>29°3'53,136\"S</td>\n",
              "      <td>51°40'29,824\"W</td>\n",
              "      <td>2001-03-15</td>\n",
              "      <td>2036-03-15</td>\n",
              "      <td>100% para COMPANHIA ENERGÉTICA RIO DAS ANTAS (...</td>\n",
              "      <td>86 - Taquari</td>\n",
              "      <td>Bento Gonçalves - RS, Cotiporã - RS</td>\n",
              "    </tr>\n",
              "    <tr>\n",
              "      <th>1</th>\n",
              "      <td>29 de Outubro</td>\n",
              "      <td>UTE.PE.SC.029920-0</td>\n",
              "      <td>SC</td>\n",
              "      <td>UTE</td>\n",
              "      <td>Operação</td>\n",
              "      <td>Fóssil</td>\n",
              "      <td>Petróleo</td>\n",
              "      <td>Registro</td>\n",
              "      <td>Óleo Diesel</td>\n",
              "      <td>07/10/2008</td>\n",
              "      <td>62.0</td>\n",
              "      <td>62.0</td>\n",
              "      <td>0</td>\n",
              "      <td>Não</td>\n",
              "      <td>26° 29' 9,370\" S</td>\n",
              "      <td>49° 5' 10,100\" W</td>\n",
              "      <td>NaT</td>\n",
              "      <td>NaT</td>\n",
              "      <td>100% para Condomínio Residencial 29 de Outubro...</td>\n",
              "      <td>NaN</td>\n",
              "      <td>Jaraguá do Sul - SC</td>\n",
              "    </tr>\n",
              "    <tr>\n",
              "      <th>2</th>\n",
              "      <td>300KVA SCANIA</td>\n",
              "      <td>UTE.PE.MG.032686-0</td>\n",
              "      <td>MG</td>\n",
              "      <td>UTE</td>\n",
              "      <td>Operação</td>\n",
              "      <td>Fóssil</td>\n",
              "      <td>Petróleo</td>\n",
              "      <td>Registro</td>\n",
              "      <td>Óleo Diesel</td>\n",
              "      <td>01/06/2013</td>\n",
              "      <td>240.0</td>\n",
              "      <td>240.0</td>\n",
              "      <td>0</td>\n",
              "      <td>Não</td>\n",
              "      <td>21°46'53,08\"S</td>\n",
              "      <td>46°36'22,97\"W</td>\n",
              "      <td>NaT</td>\n",
              "      <td>NaT</td>\n",
              "      <td>100% para Mineração Curimbaba Ltda. (REG)</td>\n",
              "      <td>NaN</td>\n",
              "      <td>Poços de Caldas - MG</td>\n",
              "    </tr>\n",
              "    <tr>\n",
              "      <th>3</th>\n",
              "      <td>3M Itapetininga</td>\n",
              "      <td>UTE.PE.SP.028642-7</td>\n",
              "      <td>SP</td>\n",
              "      <td>UTE</td>\n",
              "      <td>Operação</td>\n",
              "      <td>Fóssil</td>\n",
              "      <td>Petróleo</td>\n",
              "      <td>Registro</td>\n",
              "      <td>Óleo Diesel</td>\n",
              "      <td>12/06/2002</td>\n",
              "      <td>3840.0</td>\n",
              "      <td>3840.0</td>\n",
              "      <td>0</td>\n",
              "      <td>Não</td>\n",
              "      <td>23°36'3,19\"S</td>\n",
              "      <td>48°5'41,69\"W</td>\n",
              "      <td>NaT</td>\n",
              "      <td>NaT</td>\n",
              "      <td>100% para 3M do Brasil Ltda (REG)</td>\n",
              "      <td>NaN</td>\n",
              "      <td>Itapetininga - SP</td>\n",
              "    </tr>\n",
              "    <tr>\n",
              "      <th>4</th>\n",
              "      <td>3M Sumaré</td>\n",
              "      <td>UTE.PE.SP.028919-1</td>\n",
              "      <td>SP</td>\n",
              "      <td>UTE</td>\n",
              "      <td>Operação</td>\n",
              "      <td>Fóssil</td>\n",
              "      <td>Petróleo</td>\n",
              "      <td>Autorização</td>\n",
              "      <td>Óleo Diesel</td>\n",
              "      <td>01/10/2001</td>\n",
              "      <td>6400.0</td>\n",
              "      <td>6400.0</td>\n",
              "      <td>0</td>\n",
              "      <td>Não</td>\n",
              "      <td>22°49'15,73\"S</td>\n",
              "      <td>47°11'24,3\"W</td>\n",
              "      <td>2003-06-20</td>\n",
              "      <td>2033-06-20</td>\n",
              "      <td>100% para 3M do Brasil Ltda (APE)</td>\n",
              "      <td>NaN</td>\n",
              "      <td>Sumaré - SP</td>\n",
              "    </tr>\n",
              "  </tbody>\n",
              "</table>\n",
              "</div>"
            ],
            "text/plain": [
              "    Empreendimento  ...                        Município (s)\n",
              "0      14 de Julho  ...  Bento Gonçalves - RS, Cotiporã - RS\n",
              "1    29 de Outubro  ...                  Jaraguá do Sul - SC\n",
              "2    300KVA SCANIA  ...                 Poços de Caldas - MG\n",
              "3  3M Itapetininga  ...                    Itapetininga - SP\n",
              "4        3M Sumaré  ...                          Sumaré - SP\n",
              "\n",
              "[5 rows x 21 columns]"
            ]
          },
          "metadata": {
            "tags": []
          },
          "execution_count": 59
        }
      ]
    },
    {
      "cell_type": "markdown",
      "metadata": {
        "id": "CpylR230MHaI"
      },
      "source": [
        "É visível que diversas colunas que estão presentes no dataset não serão necessárias, por isso a base de dados será carregada novamente a fim de conter apenas as colunas principais."
      ]
    },
    {
      "cell_type": "code",
      "metadata": {
        "colab": {
          "base_uri": "https://localhost:8080/",
          "height": 195
        },
        "id": "2a_WJcw6Lb1-",
        "outputId": "065273ba-0370-436e-8e15-92c5c335f3e2"
      },
      "source": [
        "dados = pd.read_excel('/content/drive/MyDrive/BD SIGA 01012021.xlsx',\r\n",
        "                      skiprows = [0],\r\n",
        "                      usecols = ['UF', 'Fase', 'Fonte', 'Origem',\r\n",
        "                                 'Potência Outorgada (kW)'])\r\n",
        "dados.head()"
      ],
      "execution_count": 60,
      "outputs": [
        {
          "output_type": "execute_result",
          "data": {
            "text/html": [
              "<div>\n",
              "<style scoped>\n",
              "    .dataframe tbody tr th:only-of-type {\n",
              "        vertical-align: middle;\n",
              "    }\n",
              "\n",
              "    .dataframe tbody tr th {\n",
              "        vertical-align: top;\n",
              "    }\n",
              "\n",
              "    .dataframe thead th {\n",
              "        text-align: right;\n",
              "    }\n",
              "</style>\n",
              "<table border=\"1\" class=\"dataframe\">\n",
              "  <thead>\n",
              "    <tr style=\"text-align: right;\">\n",
              "      <th></th>\n",
              "      <th>UF</th>\n",
              "      <th>Fonte</th>\n",
              "      <th>Fase</th>\n",
              "      <th>Origem</th>\n",
              "      <th>Potência Outorgada (kW)</th>\n",
              "    </tr>\n",
              "  </thead>\n",
              "  <tbody>\n",
              "    <tr>\n",
              "      <th>0</th>\n",
              "      <td>RS</td>\n",
              "      <td>UHE</td>\n",
              "      <td>Operação</td>\n",
              "      <td>Hídrica</td>\n",
              "      <td>100000.0</td>\n",
              "    </tr>\n",
              "    <tr>\n",
              "      <th>1</th>\n",
              "      <td>SC</td>\n",
              "      <td>UTE</td>\n",
              "      <td>Operação</td>\n",
              "      <td>Fóssil</td>\n",
              "      <td>62.0</td>\n",
              "    </tr>\n",
              "    <tr>\n",
              "      <th>2</th>\n",
              "      <td>MG</td>\n",
              "      <td>UTE</td>\n",
              "      <td>Operação</td>\n",
              "      <td>Fóssil</td>\n",
              "      <td>240.0</td>\n",
              "    </tr>\n",
              "    <tr>\n",
              "      <th>3</th>\n",
              "      <td>SP</td>\n",
              "      <td>UTE</td>\n",
              "      <td>Operação</td>\n",
              "      <td>Fóssil</td>\n",
              "      <td>3840.0</td>\n",
              "    </tr>\n",
              "    <tr>\n",
              "      <th>4</th>\n",
              "      <td>SP</td>\n",
              "      <td>UTE</td>\n",
              "      <td>Operação</td>\n",
              "      <td>Fóssil</td>\n",
              "      <td>6400.0</td>\n",
              "    </tr>\n",
              "  </tbody>\n",
              "</table>\n",
              "</div>"
            ],
            "text/plain": [
              "   UF Fonte      Fase   Origem  Potência Outorgada (kW)\n",
              "0  RS   UHE  Operação  Hídrica                 100000.0\n",
              "1  SC   UTE  Operação   Fóssil                     62.0\n",
              "2  MG   UTE  Operação   Fóssil                    240.0\n",
              "3  SP   UTE  Operação   Fóssil                   3840.0\n",
              "4  SP   UTE  Operação   Fóssil                   6400.0"
            ]
          },
          "metadata": {
            "tags": []
          },
          "execution_count": 60
        }
      ]
    },
    {
      "cell_type": "markdown",
      "metadata": {
        "id": "KmsMsRDa1AdS"
      },
      "source": [
        "As colunas presentes no nosso dataset após a mudança são:\r\n",
        "* `UF` que indica o estado em que a usina se encontra;\r\n",
        "* `Fase` que indica se a usina está em operação, construção etc\r\n",
        "* `Origem`indica qual tipo de geração: hídrica, eólica, fóssil e etc;\r\n",
        "* `Potência Outorgada` a potência que a usina em questão gera, em kW."
      ]
    },
    {
      "cell_type": "code",
      "metadata": {
        "colab": {
          "base_uri": "https://localhost:8080/"
        },
        "id": "x7hFZP4GaRPq",
        "outputId": "304e9fed-485e-4fc6-a901-363e567e6306"
      },
      "source": [
        "dados['Fase'].value_counts()"
      ],
      "execution_count": 61,
      "outputs": [
        {
          "output_type": "execute_result",
          "data": {
            "text/plain": [
              "Operação                   9042\n",
              "Construção não iniciada     699\n",
              "Construção                  257\n",
              "Name: Fase, dtype: int64"
            ]
          },
          "metadata": {
            "tags": []
          },
          "execution_count": 61
        }
      ]
    },
    {
      "cell_type": "markdown",
      "metadata": {
        "id": "nclIelGwMi5h"
      },
      "source": [
        "A coluna Fase nos apresenta em qual estágio está a usina, se em operação, construção ou se a construção ainda não foi iniciada.\r\n",
        "\r\n",
        "Neste caso nosso interesse se dá apenas nas usinas em operação, por isso faremos um corte nos dados, a fim de contar apenas com as usinas que já trabalham."
      ]
    },
    {
      "cell_type": "code",
      "metadata": {
        "colab": {
          "base_uri": "https://localhost:8080/"
        },
        "id": "oZhbKKhuaYT4",
        "outputId": "7296f22d-b573-41ad-8313-d83eacb3f9c3"
      },
      "source": [
        "dados = dados.loc[dados['Fase']=='Operação']\r\n",
        "dados.info()"
      ],
      "execution_count": 62,
      "outputs": [
        {
          "output_type": "stream",
          "text": [
            "<class 'pandas.core.frame.DataFrame'>\n",
            "Int64Index: 9042 entries, 0 to 9997\n",
            "Data columns (total 5 columns):\n",
            " #   Column                   Non-Null Count  Dtype  \n",
            "---  ------                   --------------  -----  \n",
            " 0   UF                       9042 non-null   object \n",
            " 1   Fonte                    9042 non-null   object \n",
            " 2   Fase                     9042 non-null   object \n",
            " 3   Origem                   9042 non-null   object \n",
            " 4   Potência Outorgada (kW)  9042 non-null   float64\n",
            "dtypes: float64(1), object(4)\n",
            "memory usage: 423.8+ KB\n"
          ],
          "name": "stdout"
        }
      ]
    },
    {
      "cell_type": "markdown",
      "metadata": {
        "id": "HePwkiMaNGS2"
      },
      "source": [
        "Agora a coluna Potência será renomeada apenas por conveniência. "
      ]
    },
    {
      "cell_type": "code",
      "metadata": {
        "id": "TUwkJFrhdxH_"
      },
      "source": [
        "dados.rename(columns={'Potência Outorgada (kW)': 'Potência_kW'}, inplace=True)"
      ],
      "execution_count": 63,
      "outputs": []
    },
    {
      "cell_type": "markdown",
      "metadata": {
        "id": "rZRffDhYN0bb"
      },
      "source": [
        "Em seguida é preciso saber quais são os tipos de usinas presentes nos dados, pois a análise se aterá apenas as formas de geração renováveis."
      ]
    },
    {
      "cell_type": "code",
      "metadata": {
        "colab": {
          "base_uri": "https://localhost:8080/"
        },
        "id": "ByoXeMjvoAPm",
        "outputId": "3449ca93-d7d4-495f-ee66-2c73ee1d91df"
      },
      "source": [
        "tipos = dados['Origem'].unique()\r\n",
        "print('Tipos de usinas: \\n', tipos)"
      ],
      "execution_count": 64,
      "outputs": [
        {
          "output_type": "stream",
          "text": [
            "Tipos de usinas: \n",
            " ['Hídrica' 'Fóssil' 'Solar' 'Eólica' 'Biomassa' 'Nuclear' 'Undi-Elétrica']\n"
          ],
          "name": "stdout"
        }
      ]
    },
    {
      "cell_type": "markdown",
      "metadata": {
        "id": "BguhwyiIN1r_"
      },
      "source": [
        "Das origens listadas acima, apenas duas não se enquadram no objetivo, sendo elas a geração por meio de combustíveis fósseis e a geração nuclear, por isso essas usinas serão retiradas dos dados."
      ]
    },
    {
      "cell_type": "code",
      "metadata": {
        "id": "P1ML8XaP967m"
      },
      "source": [
        "renovaveis = dados['Origem'] != 'Fóssil'\r\n",
        "dados = dados[renovaveis]"
      ],
      "execution_count": 8,
      "outputs": []
    },
    {
      "cell_type": "code",
      "metadata": {
        "id": "SXOR8HD4CeTB"
      },
      "source": [
        "renovaveis = dados['Origem'] != 'Nuclear'\r\n",
        "dados = dados[renovaveis]\r\n",
        "dados = dados.reset_index()"
      ],
      "execution_count": 9,
      "outputs": []
    },
    {
      "cell_type": "code",
      "metadata": {
        "colab": {
          "base_uri": "https://localhost:8080/"
        },
        "id": "V1ysT3pZQKRE",
        "outputId": "0aaed015-0ae4-44a6-8cab-dd0777b22e87"
      },
      "source": [
        "dados.Origem.unique()"
      ],
      "execution_count": 10,
      "outputs": [
        {
          "output_type": "execute_result",
          "data": {
            "text/plain": [
              "array(['Hídrica', 'Solar', 'Eólica', 'Biomassa', 'Undi-Elétrica'],\n",
              "      dtype=object)"
            ]
          },
          "metadata": {
            "tags": []
          },
          "execution_count": 10
        }
      ]
    },
    {
      "cell_type": "markdown",
      "metadata": {
        "id": "Y5d2mC6mOo3S"
      },
      "source": [
        "Feita a retiradas das usinas que não são de interesse é necessário definir qual a região em que cada unidade geradora se encontra, para isso será feito um dicionário contendo as regiões e seus respectivos estados e posteriormente uma função será definida com intuito de criar uma coluna contendo a região de cada usina."
      ]
    },
    {
      "cell_type": "code",
      "metadata": {
        "id": "UcOQZeEqbez4"
      },
      "source": [
        "sudeste = ['MG', 'SP', 'RJ', 'ES']\r\n",
        "\r\n",
        "norte = ['AM', 'RR', 'AC', 'AP', 'PA', 'TO', 'RO']\r\n",
        "\r\n",
        "cen_oeste = ['GO', 'MT', 'MS', 'DF']\r\n",
        "\r\n",
        "nordeste = ['MA', 'PI', 'CE', 'RN', 'PB', 'PE', 'AL', 'SE']\r\n",
        "\r\n",
        "sul = ['PR', 'SC', 'RS']\r\n",
        "\r\n",
        "regiões = {'Sudeste': sudeste, 'Norte': norte, 'Centro-Oeste': cen_oeste, 'Nordeste': nordeste, 'Sul': sul}"
      ],
      "execution_count": 11,
      "outputs": []
    },
    {
      "cell_type": "code",
      "metadata": {
        "id": "HwfeaNhDdeni"
      },
      "source": [
        "def reg(estado):\r\n",
        "    for regiao, estados in regiões.items():\r\n",
        "        if estado in estados:\r\n",
        "            return regiao\r\n",
        "\r\n",
        "dados['Regiao'] = dados.UF.apply(reg)"
      ],
      "execution_count": 12,
      "outputs": []
    },
    {
      "cell_type": "code",
      "metadata": {
        "colab": {
          "base_uri": "https://localhost:8080/",
          "height": 195
        },
        "id": "qgMNYiPzPKgo",
        "outputId": "59dd6ee5-b260-464e-c9f8-d9bbb72f3887"
      },
      "source": [
        "dados.head()"
      ],
      "execution_count": 13,
      "outputs": [
        {
          "output_type": "execute_result",
          "data": {
            "text/html": [
              "<div>\n",
              "<style scoped>\n",
              "    .dataframe tbody tr th:only-of-type {\n",
              "        vertical-align: middle;\n",
              "    }\n",
              "\n",
              "    .dataframe tbody tr th {\n",
              "        vertical-align: top;\n",
              "    }\n",
              "\n",
              "    .dataframe thead th {\n",
              "        text-align: right;\n",
              "    }\n",
              "</style>\n",
              "<table border=\"1\" class=\"dataframe\">\n",
              "  <thead>\n",
              "    <tr style=\"text-align: right;\">\n",
              "      <th></th>\n",
              "      <th>index</th>\n",
              "      <th>UF</th>\n",
              "      <th>Fonte</th>\n",
              "      <th>Fase</th>\n",
              "      <th>Origem</th>\n",
              "      <th>Potência_kW</th>\n",
              "      <th>Regiao</th>\n",
              "    </tr>\n",
              "  </thead>\n",
              "  <tbody>\n",
              "    <tr>\n",
              "      <th>0</th>\n",
              "      <td>0</td>\n",
              "      <td>RS</td>\n",
              "      <td>UHE</td>\n",
              "      <td>Operação</td>\n",
              "      <td>Hídrica</td>\n",
              "      <td>100000.0</td>\n",
              "      <td>Sul</td>\n",
              "    </tr>\n",
              "    <tr>\n",
              "      <th>1</th>\n",
              "      <td>14</td>\n",
              "      <td>RS</td>\n",
              "      <td>CGH</td>\n",
              "      <td>Operação</td>\n",
              "      <td>Hídrica</td>\n",
              "      <td>720.0</td>\n",
              "      <td>Sul</td>\n",
              "    </tr>\n",
              "    <tr>\n",
              "      <th>2</th>\n",
              "      <td>17</td>\n",
              "      <td>PA</td>\n",
              "      <td>UFV</td>\n",
              "      <td>Operação</td>\n",
              "      <td>Solar</td>\n",
              "      <td>1.0</td>\n",
              "      <td>Norte</td>\n",
              "    </tr>\n",
              "    <tr>\n",
              "      <th>3</th>\n",
              "      <td>18</td>\n",
              "      <td>PA</td>\n",
              "      <td>UFV</td>\n",
              "      <td>Operação</td>\n",
              "      <td>Solar</td>\n",
              "      <td>1.0</td>\n",
              "      <td>Norte</td>\n",
              "    </tr>\n",
              "    <tr>\n",
              "      <th>4</th>\n",
              "      <td>19</td>\n",
              "      <td>PA</td>\n",
              "      <td>UFV</td>\n",
              "      <td>Operação</td>\n",
              "      <td>Solar</td>\n",
              "      <td>1.0</td>\n",
              "      <td>Norte</td>\n",
              "    </tr>\n",
              "  </tbody>\n",
              "</table>\n",
              "</div>"
            ],
            "text/plain": [
              "   index  UF Fonte      Fase   Origem  Potência_kW Regiao\n",
              "0      0  RS   UHE  Operação  Hídrica     100000.0    Sul\n",
              "1     14  RS   CGH  Operação  Hídrica        720.0    Sul\n",
              "2     17  PA   UFV  Operação    Solar          1.0  Norte\n",
              "3     18  PA   UFV  Operação    Solar          1.0  Norte\n",
              "4     19  PA   UFV  Operação    Solar          1.0  Norte"
            ]
          },
          "metadata": {
            "tags": []
          },
          "execution_count": 13
        }
      ]
    },
    {
      "cell_type": "markdown",
      "metadata": {
        "id": "MGT2X0SqPJVI"
      },
      "source": [
        "Acima é possível ver que a função região funcionou perfeitamente, adicionando assim a informação sobre em qual parte do país se encontra a unidade de geração.\r\n",
        "\r\n",
        "Em seguida as usinas de cada região serão contabilizadas, levanto em consideração seu tipo, podendo ser solar, hídrica e afins."
      ]
    },
    {
      "cell_type": "code",
      "metadata": {
        "id": "mWrXkL6XRmUj"
      },
      "source": [
        "for i in dados['Regiao']:\r\n",
        "  if i == 'Sul':\r\n",
        "    usi_sul = dados.loc[dados['Regiao']==i].Origem.value_counts()\r\n",
        "  elif i == 'Sudeste':\r\n",
        "    usi_sud = dados.loc[dados['Regiao']==i].Origem.value_counts()\r\n",
        "  elif i == 'Norte':\r\n",
        "    usi_nor = dados.loc[dados['Regiao']==i].Origem.value_counts()\r\n",
        "  elif i == 'Nordeste':\r\n",
        "    usi_ndt = dados.loc[dados['Regiao']==i].Origem.value_counts()\r\n",
        "  elif i == 'Centro-Oeste':\r\n",
        "    usi_cen = dados.loc[dados['Regiao']==i].Origem.value_counts()"
      ],
      "execution_count": 14,
      "outputs": []
    },
    {
      "cell_type": "markdown",
      "metadata": {
        "id": "eQZ-ARA0R4h-"
      },
      "source": [
        "Finalmente os gráficos contendo a quantiade de usinas e seus tipos em cada região podem ser gerados.\r\n",
        "\r\n",
        "Abaixo cada gráfico se refere a uma região brasileira, iniciando pelo Centro-Oeste.\r\n"
      ]
    },
    {
      "cell_type": "code",
      "metadata": {
        "colab": {
          "base_uri": "https://localhost:8080/",
          "height": 526
        },
        "id": "tqRZc6GYYBXn",
        "outputId": "5a4ad008-86d8-4081-f56a-7707c385aa14"
      },
      "source": [
        "plt.figure(figsize=(10,8), dpi=72)\r\n",
        "sns.set(style='whitegrid')\r\n",
        "sns.barplot(x=['Hídrica', 'Biomassa','Solar'], y=[usi_cen.Hídrica, usi_cen.Biomassa, usi_cen.Solar],\r\n",
        "            palette=['#1321eb','#172b19','#e3fc00'])\r\n",
        "sns.despine(left=True)\r\n",
        "plt.yticks([],[])\r\n",
        "plt.title('Número de usinas de fontes renováveis' '\\n na região Centro-Oeste do Brasil.', size=16)\r\n",
        "plt.xticks(size=16)\r\n",
        "plt.text(x=0, y=240, s='238',\r\n",
        "         color='black', fontsize=14, horizontalalignment='center')\r\n",
        "plt.text(x=1, y=87, s='85',\r\n",
        "         color='black', fontsize=14, horizontalalignment='center')\r\n",
        "plt.text(x=2, y=7, s='5',\r\n",
        "         color='black', fontsize=14, horizontalalignment='center')\r\n",
        "plt.show()"
      ],
      "execution_count": 15,
      "outputs": [
        {
          "output_type": "display_data",
          "data": {
            "image/png": "[encoded data removed]",
            "text/plain": [
              "<Figure size 720x576 with 1 Axes>"
            ]
          },
          "metadata": {
            "tags": [],
            "needs_background": "light"
          }
        }
      ]
    },
    {
      "cell_type": "code",
      "metadata": {
        "colab": {
          "base_uri": "https://localhost:8080/",
          "height": 526
        },
        "id": "klVq3J-dWWvm",
        "outputId": "c7edf2b9-ef8d-4ae9-80dd-293778795f53"
      },
      "source": [
        "plt.figure(figsize=(10,8), dpi=72)\r\n",
        "sns.set(style='whitegrid')\r\n",
        "sns.barplot(x=['Eólica', 'Biomassa', 'Solar','Hídrica', 'Undi-Elétrica'], y=[usi_ndt.Eólica, usi_ndt.Biomassa, usi_ndt.Solar, usi_ndt.Hídrica, usi_ndt[4]],\r\n",
        "            palette=['#bce0de','#172b19','#e3fc00','#1321eb', '#00144d'])\r\n",
        "sns.despine(left=True)\r\n",
        "plt.yticks([],[])\r\n",
        "plt.title('Número de usinas de fontes renováveis' '\\n na região Nordeste do Brasil.', size=16)\r\n",
        "plt.xticks(size=16)\r\n",
        "plt.text(x=0, y=399, s='397',\r\n",
        "         color='black', fontsize=14, horizontalalignment='center')\r\n",
        "plt.text(x=1, y=61, s='59',\r\n",
        "         color='black', fontsize=14, horizontalalignment='center')\r\n",
        "plt.text(x=2, y=60, s='58',\r\n",
        "         color='black', fontsize=14, horizontalalignment='center')\r\n",
        "plt.text(x=3, y=34, s='32',\r\n",
        "         color='black', fontsize=14, horizontalalignment='center')\r\n",
        "plt.text(x=4, y=3, s='1',\r\n",
        "         color='black', fontsize=14, horizontalalignment='center')\r\n",
        "plt.show()"
      ],
      "execution_count": 16,
      "outputs": [
        {
          "output_type": "display_data",
          "data": {
            "image/png": "[encoded data removed]",
            "text/plain": [
              "<Figure size 720x576 with 1 Axes>"
            ]
          },
          "metadata": {
            "tags": []
          }
        }
      ]
    },
    {
      "cell_type": "code",
      "metadata": {
        "colab": {
          "base_uri": "https://localhost:8080/",
          "height": 526
        },
        "id": "nNmM-QpOVstT",
        "outputId": "60174869-7db5-4094-e40f-8c75006ec2fd"
      },
      "source": [
        "plt.figure(figsize=(10,8), dpi=72)\r\n",
        "sns.set(style='whitegrid')\r\n",
        "sns.barplot(x=['Solar', 'Hídrica','Biomassa'], y=[usi_nor.Solar, usi_nor.Hídrica, usi_nor.Biomassa],\r\n",
        "            palette=['#e3fc00','#1321eb','#172b19'])\r\n",
        "sns.despine(left=True)\r\n",
        "plt.yticks([],[])\r\n",
        "plt.title('Número de usinas de fontes renováveis' '\\n na região Norte do Brasil.', size=16)\r\n",
        "plt.xticks(size=16)\r\n",
        "plt.text(x=0, y=3728, s='3726',\r\n",
        "         color='black', fontsize=14, horizontalalignment='center')\r\n",
        "plt.text(x=1, y=87, s='85',\r\n",
        "         color='black', fontsize=14, horizontalalignment='center')\r\n",
        "plt.text(x=2, y=24, s='22',\r\n",
        "         color='black', fontsize=14, horizontalalignment='center')\r\n",
        "plt.show()"
      ],
      "execution_count": 17,
      "outputs": [
        {
          "output_type": "display_data",
          "data": {
            "image/png": "[encoded data removed]",
            "text/plain": [
              "<Figure size 720x576 with 1 Axes>"
            ]
          },
          "metadata": {
            "tags": []
          }
        }
      ]
    },
    {
      "cell_type": "code",
      "metadata": {
        "colab": {
          "base_uri": "https://localhost:8080/",
          "height": 526
        },
        "id": "lKPkfO9vU_fw",
        "outputId": "17726eec-0a77-4953-c2b0-0b9e2e0ff183"
      },
      "source": [
        "plt.figure(figsize=(10,8), dpi=72)\r\n",
        "sns.set(style='whitegrid')\r\n",
        "sns.barplot(x=['Hídrica', 'Biomassa', 'Solar','Eólica'], y=[usi_sud.Hídrica, usi_sud.Biomassa, usi_sud.Solar, usi_sud.Eólica],\r\n",
        "            palette=['#1321eb','#172b19','#e3fc00','#bce0de'])\r\n",
        "sns.despine(left=True)\r\n",
        "plt.yticks([],[])\r\n",
        "plt.title('Número de usinas de fontes renováveis' '\\n na região Sudeste do Brasil.', size=16)\r\n",
        "plt.xticks(size=16)\r\n",
        "plt.text(x=0, y=480, s='478',\r\n",
        "         color='black', fontsize=14, horizontalalignment='center')\r\n",
        "plt.text(x=1, y=317, s='315',\r\n",
        "         color='black', fontsize=14, horizontalalignment='center')\r\n",
        "plt.text(x=2, y=72, s='70',\r\n",
        "         color='black', fontsize=14, horizontalalignment='center')\r\n",
        "plt.text(x=3, y=5, s='3',\r\n",
        "         color='black', fontsize=14, horizontalalignment='center')\r\n",
        "plt.show()"
      ],
      "execution_count": 18,
      "outputs": [
        {
          "output_type": "display_data",
          "data": {
            "image/png": "[encoded data removed]",
            "text/plain": [
              "<Figure size 720x576 with 1 Axes>"
            ]
          },
          "metadata": {
            "tags": []
          }
        }
      ]
    },
    {
      "cell_type": "code",
      "metadata": {
        "colab": {
          "base_uri": "https://localhost:8080/",
          "height": 526
        },
        "id": "qk_xU3aESJEO",
        "outputId": "1d78976d-4ac4-4cd1-d478-d9e0ff4689c4"
      },
      "source": [
        "plt.figure(figsize=(10,8), dpi=72)\r\n",
        "sns.set(style='whitegrid')\r\n",
        "sns.barplot(x=['Hídrica', 'Eólica', 'Biomassa','Solar'], y=[usi_sul.Hídrica, usi_sul.Eólica, usi_sul.Biomassa, usi_sul.Solar],\r\n",
        "            palette=['#1321eb','#bce0de','#172b19','#e3fc00'])\r\n",
        "sns.despine(left=True)\r\n",
        "plt.yticks([],[])\r\n",
        "plt.title('Número de usinas de fontes renováveis' '\\n na região Sul do Brasil.', size=16)\r\n",
        "plt.xticks(size=16)\r\n",
        "plt.text(x=0, y=510, s='508',\r\n",
        "         color='black', fontsize=14, horizontalalignment='center')\r\n",
        "plt.text(x=1, y=100, s='98',\r\n",
        "         color='black', fontsize=14, horizontalalignment='center')\r\n",
        "plt.text(x=2, y=91, s='89',\r\n",
        "         color='black', fontsize=14, horizontalalignment='center')\r\n",
        "plt.text(x=3, y=23, s='21',\r\n",
        "         color='black', fontsize=14, horizontalalignment='center')\r\n",
        "plt.show()"
      ],
      "execution_count": 19,
      "outputs": [
        {
          "output_type": "display_data",
          "data": {
            "image/png": "[encoded data removed]",
            "text/plain": [
              "<Figure size 720x576 with 1 Axes>"
            ]
          },
          "metadata": {
            "tags": []
          }
        }
      ]
    },
    {
      "cell_type": "markdown",
      "metadata": {
        "id": "-W68Gr7VXtmQ"
      },
      "source": [
        "Para finalizar, será gerado um gráfico contendo a capacidade de geração de cada região na ordem dos gigawatts."
      ]
    },
    {
      "cell_type": "code",
      "metadata": {
        "id": "Z2W5aJGXZja-"
      },
      "source": [
        "potencia_regional = []\r\n",
        "\r\n",
        "for i in dados.Regiao.unique():\r\n",
        "  soma_pot = dados.loc[dados['Regiao']==i].Potência_kW.sum()\r\n",
        "  soma_pot = soma_pot / (10**6)\r\n",
        "  soma_pot = soma_pot.round(3)\r\n",
        "  potencia_regional.append(soma_pot)\r\n",
        "  \r\n",
        "\r\n",
        "potencia_regional.pop(2);"
      ],
      "execution_count": 21,
      "outputs": []
    },
    {
      "cell_type": "code",
      "metadata": {
        "colab": {
          "base_uri": "https://localhost:8080/",
          "height": 508
        },
        "id": "r4seNr2DeXsF",
        "outputId": "4e479ca8-f46e-408e-faa4-96af2ab1aef5"
      },
      "source": [
        "plt.figure(figsize=(10,8), dpi=72)\r\n",
        "sns.set(style='whitegrid')\r\n",
        "sns.barplot(x=['Sudeste', 'Norte', 'Sul', 'Nordeste', 'Centro-Oeste'], \r\n",
        "            y=[potencia_regional[2], potencia_regional[1], potencia_regional[0], potencia_regional[4], potencia_regional[3]],\r\n",
        "            palette=['#757466', '#e4eb2f', '#4d7bf0', '#46c7a0', '#30963f'])\r\n",
        "plt.xlabel('')\r\n",
        "plt.ylabel('Potência gerada em GW', size=16)\r\n",
        "plt.xticks(size=14)\r\n",
        "plt.yticks([],[])\r\n",
        "plt.title('Geração de energia elétrica de cada região brasileira', fontsize=16)\r\n",
        "plt.text(x=0, y=40, s='39.62',\r\n",
        "         color='black', fontsize=14, horizontalalignment='center')\r\n",
        "plt.text(x=1, y=34, s='33.496',\r\n",
        "         color='black', fontsize=14, horizontalalignment='center')\r\n",
        "plt.text(x=2, y=29, s='29.138',\r\n",
        "         color='black', fontsize=14, horizontalalignment='center')\r\n",
        "plt.text(x=3, y=20, s='19.565',\r\n",
        "         color='black', fontsize=14, horizontalalignment='center')\r\n",
        "plt.text(x=4, y=13, s='12.837',\r\n",
        "         color='black', fontsize=14, horizontalalignment='center')\r\n",
        "sns.despine(left=True)\r\n",
        "plt.show()"
      ],
      "execution_count": 23,
      "outputs": [
        {
          "output_type": "display_data",
          "data": {
            "image/png": "[encoded data removed]",
            "text/plain": [
              "<Figure size 720x576 with 1 Axes>"
            ]
          },
          "metadata": {
            "tags": []
          }
        }
      ]
    },
    {
      "cell_type": "code",
      "metadata": {
        "id": "Pj9XRILRrhLQ"
      },
      "source": [
        "tipos = dados['Origem'].unique()\r\n",
        "pot_tipo = []\r\n",
        "for i in tipos:\r\n",
        "  pot_media = dados.loc[dados['Origem']==i].Potência_kW.mean()\r\n",
        "  pot_media = np.round(pot_media,2)\r\n",
        "  pot_tipo.append(pot_media)\r\n",
        "  \r\n",
        "\r\n",
        "pot_media = {'Origem': tipos, 'Potência_média': pot_tipo}\r\n",
        "pot_media = pd.DataFrame(pot_media)\r\n",
        "pot_media = pot_media.sort_values(by='Potência_média', ascending=False)"
      ],
      "execution_count": 37,
      "outputs": []
    },
    {
      "cell_type": "code",
      "metadata": {
        "colab": {
          "base_uri": "https://localhost:8080/",
          "height": 489
        },
        "id": "GWU2kcEAvtD9",
        "outputId": "c3afe7b3-eac3-4808-ce27-95820b0ef7ae"
      },
      "source": [
        "plt.figure(figsize=(10,8), dpi=72)\r\n",
        "sns.barplot(x=pot_media.Origem, y=pot_media.Potência_média)\r\n",
        "plt.xticks(size=14)\r\n",
        "plt.yticks([],[])\r\n",
        "plt.xlabel('')\r\n",
        "plt.ylabel('Potência média em kW')\r\n",
        "plt.text(x=0, y=79363, s='79362',\r\n",
        "         color='black', fontsize=14, horizontalalignment='center')\r\n",
        "plt.text(x=1, y=26935, s='26934',\r\n",
        "         color='black', fontsize=14, horizontalalignment='center')\r\n",
        "plt.text(x=2, y=25232, s='25231',\r\n",
        "         color='black', fontsize=14, horizontalalignment='center')\r\n",
        "plt.text(x=3, y=841, s='840',\r\n",
        "         color='black', fontsize=14, horizontalalignment='center')\r\n",
        "plt.text(x=4, y=51, s='50',\r\n",
        "         color='black', fontsize=14, horizontalalignment='center')\r\n",
        "sns.despine(left=True)\r\n",
        "plt.show()"
      ],
      "execution_count": 55,
      "outputs": [
        {
          "output_type": "display_data",
          "data": {
            "image/png": "[encoded data removed]",
            "text/plain": [
              "<Figure size 720x576 with 1 Axes>"
            ]
          },
          "metadata": {
            "tags": []
          }
        }
      ]
    },
    {
      "cell_type": "markdown",
      "metadata": {
        "id": "4G4U1RhHSXLx"
      },
      "source": [
        "É interessante notar as características únicas de cada região, como por exemplo o elevado número de usinas eólicas do Nordeste e também a única usina undi-elétrica do Brasil fica em terras nordestinas. Este tipo de usina aproveita o movimento das ondas do mar para gerar eletricidade.\r\n",
        "\r\n",
        "No sudeste destaca-se o número de usinas de biomassa, mais de 300, usinas essas que produzem eletricidade a partir de resíduos orgânicos, o que pode indicar um grande aproveitamento das matérias de origem animal e vegetal por parte dessas unidades e normalmente esses resíduos seriam descartados.\r\n",
        "\r\n",
        "Já na região norte é notável a quantidade de unidade que utilizam a luz solar para geração de eletricidade. Historicamente a região sempre sofreu com o abastecimento de energia elétrica, basta lembrar o acontecimento do final de 2020 onde diversas cidades do norte chegaram a ficar sem energia por semanas.\r\n",
        "\r\n",
        "Por isso a energia fotovoltaica se tornou uma alternativa tão atrativa para os moradores da região, tendo em vista que uma vez instalados os painéis e pago o investimento inicial, a geração se torna praticamente sem custos.\r\n"
      ]
    },
    {
      "cell_type": "code",
      "metadata": {
        "id": "mAl6hO87uJes"
      },
      "source": [
        ""
      ],
      "execution_count": null,
      "outputs": []
    }
  ]
}